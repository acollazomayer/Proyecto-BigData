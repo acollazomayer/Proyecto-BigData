{
 "cells": [
  {
   "cell_type": "code",
   "execution_count": 1,
   "metadata": {
    "collapsed": true,
    "deletable": true,
    "editable": true
   },
   "outputs": [],
   "source": [
    "%matplotlib inline\n",
    "import pyspark\n",
    "import pandas as pd\n",
    "import math\n",
    "from pyspark.ml.feature import OneHotEncoder, StringIndexer, Normalizer\n",
    "from pyspark.ml.pipeline import Transformer\n",
    "from pyspark.ml.param.shared import HasInputCol, HasOutputCol, Param\n",
    "from pyspark import keyword_only\n",
    "from pyspark.ml import Pipeline\n",
    "from pyspark.sql import Row\n",
    "from pyspark.sql import SQLContext"
   ]
  },
  {
   "cell_type": "code",
   "execution_count": 2,
   "metadata": {
    "collapsed": true,
    "deletable": true,
    "editable": true
   },
   "outputs": [],
   "source": [
    "sc = pyspark.SparkContext(master='local[*]')\n",
    "sqlContext = SQLContext(sc)"
   ]
  },
  {
   "cell_type": "code",
   "execution_count": 3,
   "metadata": {
    "collapsed": true,
    "deletable": true,
    "editable": true
   },
   "outputs": [],
   "source": [
    "pd.set_option('display.max_columns', 500)"
   ]
  },
  {
   "cell_type": "code",
   "execution_count": 4,
   "metadata": {
    "collapsed": true,
    "deletable": true,
    "editable": true
   },
   "outputs": [],
   "source": [
    "shelter_pd = pd.read_csv('train.csv')"
   ]
  },
  {
   "cell_type": "code",
   "execution_count": 5,
   "metadata": {
    "collapsed": false,
    "deletable": true,
    "editable": true
   },
   "outputs": [
    {
     "data": {
      "text/html": [
       "<div>\n",
       "<table border=\"1\" class=\"dataframe\">\n",
       "  <thead>\n",
       "    <tr style=\"text-align: right;\">\n",
       "      <th></th>\n",
       "      <th>AnimalID</th>\n",
       "      <th>Name</th>\n",
       "      <th>DateTime</th>\n",
       "      <th>OutcomeType</th>\n",
       "      <th>OutcomeSubtype</th>\n",
       "      <th>AnimalType</th>\n",
       "      <th>SexuponOutcome</th>\n",
       "      <th>AgeuponOutcome</th>\n",
       "      <th>Breed</th>\n",
       "      <th>Color</th>\n",
       "    </tr>\n",
       "  </thead>\n",
       "  <tbody>\n",
       "    <tr>\n",
       "      <th>count</th>\n",
       "      <td>26729</td>\n",
       "      <td>19038</td>\n",
       "      <td>26729</td>\n",
       "      <td>26729</td>\n",
       "      <td>13117</td>\n",
       "      <td>26729</td>\n",
       "      <td>26728</td>\n",
       "      <td>26711</td>\n",
       "      <td>26729</td>\n",
       "      <td>26729</td>\n",
       "    </tr>\n",
       "    <tr>\n",
       "      <th>unique</th>\n",
       "      <td>26729</td>\n",
       "      <td>6374</td>\n",
       "      <td>22918</td>\n",
       "      <td>5</td>\n",
       "      <td>16</td>\n",
       "      <td>2</td>\n",
       "      <td>5</td>\n",
       "      <td>44</td>\n",
       "      <td>1380</td>\n",
       "      <td>366</td>\n",
       "    </tr>\n",
       "    <tr>\n",
       "      <th>top</th>\n",
       "      <td>A705677</td>\n",
       "      <td>Max</td>\n",
       "      <td>2015-08-11 00:00:00</td>\n",
       "      <td>Adoption</td>\n",
       "      <td>Partner</td>\n",
       "      <td>Dog</td>\n",
       "      <td>Neutered Male</td>\n",
       "      <td>1 year</td>\n",
       "      <td>Domestic Shorthair Mix</td>\n",
       "      <td>Black/White</td>\n",
       "    </tr>\n",
       "    <tr>\n",
       "      <th>freq</th>\n",
       "      <td>1</td>\n",
       "      <td>136</td>\n",
       "      <td>19</td>\n",
       "      <td>10769</td>\n",
       "      <td>7816</td>\n",
       "      <td>15595</td>\n",
       "      <td>9779</td>\n",
       "      <td>3969</td>\n",
       "      <td>8810</td>\n",
       "      <td>2824</td>\n",
       "    </tr>\n",
       "  </tbody>\n",
       "</table>\n",
       "</div>"
      ],
      "text/plain": [
       "       AnimalID   Name             DateTime OutcomeType OutcomeSubtype  \\\n",
       "count     26729  19038                26729       26729          13117   \n",
       "unique    26729   6374                22918           5             16   \n",
       "top     A705677    Max  2015-08-11 00:00:00    Adoption        Partner   \n",
       "freq          1    136                   19       10769           7816   \n",
       "\n",
       "       AnimalType SexuponOutcome AgeuponOutcome                   Breed  \\\n",
       "count       26729          26728          26711                   26729   \n",
       "unique          2              5             44                    1380   \n",
       "top           Dog  Neutered Male         1 year  Domestic Shorthair Mix   \n",
       "freq        15595           9779           3969                    8810   \n",
       "\n",
       "              Color  \n",
       "count         26729  \n",
       "unique          366  \n",
       "top     Black/White  \n",
       "freq           2824  "
      ]
     },
     "execution_count": 5,
     "metadata": {},
     "output_type": "execute_result"
    }
   ],
   "source": [
    "shelter_pd.describe(include = \"all\")"
   ]
  },
  {
   "cell_type": "markdown",
   "metadata": {
    "collapsed": false,
    "deletable": true,
    "editable": true
   },
   "source": [
    "El Data Quality Report nos da un análisis de los datos. Tenemos 26729 filas en el dataset y se puede ver que hay un missing value en la columna SexuponOutcome (<1%), 18 en AgeuponOutcome (<1%), 7691 en Name (~28.7%) y 13612 en OutcomeType(~50.9%).\n",
    "\n",
    "Como vamos a handle el problema de los missing values?\n",
    "\n",
    "- En el caso de SexuponOutcome, podemos simplemente borrar las filas porque no va a afectar nuestro modelo de predicciones.\n",
    "- En el caso de AgeuponOutcome, vamos a borrar las filas también porque son muy pocos datos (<1%).\n",
    "- En el caso de Name, no nos importa porque no vamos a usar esa columna en nuestro modelo. (El nombre no influye el Outcome del animal..)\n",
    "- En el caso de OutcomeSubtype, tenemos muchos missing value porque por algunos valores de OutcomeType, como por ejemplo <i>Return_to_owner</i>, no hacía falta poner más información.\n",
    "\n",
    "Que tipo de transformaciones vamos a aplicar sobre los datos para que se pueda usar para crear un modelo de predicción?\n",
    "- Name: Borramos la columna porque no nos interesa en nuestras predicciones.\n",
    "- DateTime: Borramos la hora y el día porque no es relevante aquí y ponemos un incremental que empieza con el primer mes del dataset.\n",
    "- OutcomeType: Es un feature categórica entonces vamos a aplicar el StringIndexer para que lo transforme a feature numérica.\n",
    "- OutcomeSubtype: Borramos la columna porque no nos interesa en nuestras predicciones.\n",
    "- AnimalType: Es un feature categórica entonces vamos a aplicar el StringIndexer para que lo transforme a feature numérica.\n",
    "- SexuponOutcome: Es un feature categórica entonces vamos a aplicar el StringIndexer para que lo transforme a feature numérica.\n",
    "- AgeuponOutcome: Vamos a convertir cada edad en semana para que todos los datos tengan la misma MEDIDA??\n",
    "- Breed: Es un feature categórica entonces vamos a aplicar el StringIndexer para que lo transforme a feature numérica.\n",
    "- Color: Es un feature categórica entonces vamos a aplicar el StringIndexer para que lo transforme a feature numérica.\n",
    "\n",
    "Ahora vamos a limpiar los datos y transformar cada feature categórica a numérica para que se pueda usar para crear un modelo de predicción."
   ]
  },
  {
   "cell_type": "markdown",
   "metadata": {},
   "source": [
    "### Part I: Cleaning the data"
   ]
  },
  {
   "cell_type": "code",
   "execution_count": 6,
   "metadata": {
    "collapsed": false,
    "deletable": true,
    "editable": true
   },
   "outputs": [],
   "source": [
    "def valueCount(DF, column, value):## Function that counts the number of occurrences of a value in a given column\n",
    "    count = 0\n",
    "    columnIndex = DF.columns.get_loc(column)\n",
    "    for (index, row) in DF.iterrows():\n",
    "        if row[columnIndex] == value:\n",
    "            count += 1\n",
    "    return count\n",
    "\n",
    "def missingValuesRemover(DF, column):## Removes the missing values in the given column\n",
    "    count = 0\n",
    "    columnIndex = DF.columns.get_loc(column)\n",
    "    for (index, row) in DF.iterrows():\n",
    "        if str(row[columnIndex]).lower().split() == ['nan']:\n",
    "            DF = DF.drop(index)\n",
    "            count += 1\n",
    "    print(str(count) + \" element(s) removed\")\n",
    "    return DF"
   ]
  },
  {
   "cell_type": "markdown",
   "metadata": {
    "deletable": true,
    "editable": true
   },
   "source": [
    "NOTE:\n",
    "- Should we normalise each feature in the range [0, 1]?"
   ]
  },
  {
   "cell_type": "code",
   "execution_count": 7,
   "metadata": {
    "collapsed": false,
    "deletable": true,
    "editable": true
   },
   "outputs": [
    {
     "name": "stdout",
     "output_type": "stream",
     "text": [
      "18 element(s) removed\n",
      "1 element(s) removed\n"
     ]
    }
   ],
   "source": [
    "shelter_pd = missingValuesRemover(shelter_pd, \"AgeuponOutcome\")\n",
    "shelter_pd = missingValuesRemover(shelter_pd, \"SexuponOutcome\")\n",
    "del shelter_pd['AnimalID']\n",
    "del shelter_pd['OutcomeSubtype']\n",
    "del shelter_pd['Name']"
   ]
  },
  {
   "cell_type": "markdown",
   "metadata": {},
   "source": [
    "### Part II: Indexation"
   ]
  },
  {
   "cell_type": "code",
   "execution_count": 8,
   "metadata": {
    "collapsed": false
   },
   "outputs": [],
   "source": [
    "shelter_pd[['DateTime', 'OutcomeType', 'AnimalType', 'SexuponOutcome', 'AgeuponOutcome', 'Breed', 'Color']] = shelter_pd[['DateTime', 'OutcomeType', 'AnimalType', 'SexuponOutcome', 'AgeuponOutcome', 'Breed', 'Color']].astype(str)\n",
    "shelter_df = sqlContext.createDataFrame(shelter_pd)\n",
    "\n",
    "## Creating a Spark Dataframe from the Pandas Dataframe in order to use it with the Decision Tree model."
   ]
  },
  {
   "cell_type": "code",
   "execution_count": 9,
   "metadata": {
    "collapsed": false,
    "deletable": true,
    "editable": true,
    "scrolled": true
   },
   "outputs": [],
   "source": [
    "## Here are all the indexers we're gonna use in the pipeline:\n",
    "OutcomeType_indexer = StringIndexer(inputCol=\"OutcomeType\", outputCol=\"OutcomeType_idx\")\n",
    "AnimalType_indexer = StringIndexer(inputCol=\"AnimalType\", outputCol=\"AnimalType_idx\")\n",
    "SexuponOutcome_indexer = StringIndexer(inputCol=\"SexuponOutcome\", outputCol=\"SexuponOutcome_idx\")\n",
    "Breed_indexer = StringIndexer(inputCol=\"Breed\", outputCol=\"Breed_idx\")\n",
    "Color_indexer = StringIndexer(inputCol=\"Color\", outputCol=\"Color_idx\")\n",
    "\n",
    "\n",
    "## Should we use OneHotEncoder or StringIndexer for continuous features?\n",
    "## It looks like we're using StringIndexer more for stuff like boolean values and\n",
    "## OneHotEncoder for actual categorical features.. But not sure\n",
    "## Anyway if it's actally OneHotEncoder that we need to use, we just need to add\n",
    "## One OneHotIndexer and use the OutcomeType_idx we just created as inputCol.."
   ]
  },
  {
   "cell_type": "code",
   "execution_count": 10,
   "metadata": {
    "collapsed": false,
    "deletable": true,
    "editable": true
   },
   "outputs": [],
   "source": [
    "pipeline = Pipeline(stages=[OutcomeType_indexer, AnimalType_indexer, SexuponOutcome_indexer, Breed_indexer, Color_indexer])\n",
    "model = pipeline.fit(shelter_df)"
   ]
  },
  {
   "cell_type": "code",
   "execution_count": 11,
   "metadata": {
    "collapsed": false
   },
   "outputs": [],
   "source": [
    "shelter_df_idx = model.transform(shelter_df)\n",
    "shelter_df_idx = shelter_df_idx.drop('OutcomeType', 'AnimalType', 'SexuponOutcome', 'Breed', 'Color')\n",
    "\n",
    "## Dropping the tables that are still categorical because they're no use to us."
   ]
  },
  {
   "cell_type": "code",
   "execution_count": 12,
   "metadata": {
    "collapsed": false,
    "deletable": true,
    "editable": true
   },
   "outputs": [
    {
     "name": "stdout",
     "output_type": "stream",
     "text": [
      "+---------------+--------------+------------------+---------+---------+\n",
      "|OutcomeType_idx|AnimalType_idx|SexuponOutcome_idx|Breed_idx|Color_idx|\n",
      "+---------------+--------------+------------------+---------+---------+\n",
      "|            2.0|           0.0|               0.0|    100.0|      5.0|\n",
      "|            3.0|           1.0|               1.0|      0.0|     32.0|\n",
      "|            0.0|           0.0|               0.0|      1.0|      9.0|\n",
      "|            1.0|           1.0|               2.0|      0.0|    122.0|\n",
      "|            1.0|           0.0|               0.0|    281.0|     13.0|\n",
      "|            1.0|           0.0|               3.0|    152.0|     10.0|\n",
      "|            1.0|           1.0|               2.0|      0.0|     21.0|\n",
      "|            1.0|           1.0|               4.0|      0.0|      2.0|\n",
      "|            0.0|           0.0|               1.0|     42.0|     26.0|\n",
      "|            0.0|           0.0|               1.0|    186.0|      4.0|\n",
      "|            1.0|           1.0|               4.0|      0.0|      1.0|\n",
      "|            0.0|           0.0|               1.0|     21.0|    102.0|\n",
      "|            0.0|           0.0|               0.0|      1.0|     12.0|\n",
      "|            2.0|           0.0|               0.0|     18.0|     98.0|\n",
      "|            2.0|           0.0|               0.0|     32.0|     72.0|\n",
      "|            0.0|           1.0|               0.0|      0.0|     17.0|\n",
      "|            1.0|           1.0|               2.0|      0.0|      2.0|\n",
      "|            1.0|           0.0|               3.0|      1.0|      5.0|\n",
      "|            1.0|           1.0|               3.0|    242.0|      4.0|\n",
      "|            2.0|           0.0|               0.0|     70.0|      1.0|\n",
      "+---------------+--------------+------------------+---------+---------+\n",
      "only showing top 20 rows\n",
      "\n"
     ]
    }
   ],
   "source": [
    "shelter_df_idx.registerTempTable(\"shelter\")\n",
    "sqlContext.sql(\"SELECT OutcomeType_idx, AnimalType_idx, SexuponOutcome_idx, Breed_idx, Color_idx FROM shelter\").show()\n",
    "\n",
    "## Showing all the indexed tables"
   ]
  },
  {
   "cell_type": "markdown",
   "metadata": {},
   "source": [
    "#################################\n",
    "#################################\n",
    "\n",
    "\n",
    "OKAY GUYS, \n",
    "\n",
    "Tenemos que cambiar la columna fecha y edad para poder usarlo con decision tree\n",
    "\n",
    "\n",
    "#################################\n",
    "#################################"
   ]
  },
  {
   "cell_type": "code",
   "execution_count": null,
   "metadata": {
    "collapsed": true
   },
   "outputs": [],
   "source": []
  },
  {
   "cell_type": "code",
   "execution_count": null,
   "metadata": {
    "collapsed": false
   },
   "outputs": [],
   "source": []
  },
  {
   "cell_type": "code",
   "execution_count": null,
   "metadata": {
    "collapsed": false
   },
   "outputs": [],
   "source": []
  },
  {
   "cell_type": "code",
   "execution_count": null,
   "metadata": {
    "collapsed": false,
    "deletable": true,
    "editable": true
   },
   "outputs": [],
   "source": []
  },
  {
   "cell_type": "code",
   "execution_count": null,
   "metadata": {
    "collapsed": true,
    "deletable": true,
    "editable": true
   },
   "outputs": [],
   "source": []
  },
  {
   "cell_type": "code",
   "execution_count": null,
   "metadata": {
    "collapsed": true,
    "deletable": true,
    "editable": true
   },
   "outputs": [],
   "source": []
  }
 ],
 "metadata": {
  "kernelspec": {
   "display_name": "Python 2",
   "language": "python",
   "name": "python2"
  },
  "language_info": {
   "codemirror_mode": {
    "name": "ipython",
    "version": 2
   },
   "file_extension": ".py",
   "mimetype": "text/x-python",
   "name": "python",
   "nbconvert_exporter": "python",
   "pygments_lexer": "ipython2",
   "version": "2.7.12"
  }
 },
 "nbformat": 4,
 "nbformat_minor": 2
}

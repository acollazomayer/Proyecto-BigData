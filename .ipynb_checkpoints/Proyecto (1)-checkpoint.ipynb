{
 "cells": [
  {
   "cell_type": "code",
   "execution_count": 1,
   "metadata": {
    "collapsed": true
   },
   "outputs": [],
   "source": [
    "%matplotlib inline\n",
    "import pyspark\n",
    "import pandas as pd\n",
    "import math\n",
    "import matplotlib.pyplot as plt\n",
    "import seaborn as sns\n",
    "from pyspark.ml.feature import OneHotEncoder, StringIndexer, Normalizer\n",
    "from pyspark.ml.pipeline import Transformer\n",
    "from pyspark.ml.param.shared import HasInputCol, HasOutputCol, Param\n",
    "from pyspark import keyword_only\n",
    "from pyspark.ml import Pipeline\n",
    "from pyspark.sql import Row\n",
    "from pyspark.sql import SQLContext"
   ]
  },
  {
   "cell_type": "code",
   "execution_count": 2,
   "metadata": {},
   "outputs": [],
   "source": [
    "sc = pyspark.SparkContext(master='local[*]')\n",
    "sqlContext = SQLContext(sc)"
   ]
  },
  {
   "cell_type": "code",
   "execution_count": 3,
   "metadata": {
    "collapsed": true
   },
   "outputs": [],
   "source": [
    "pd.set_option('display.max_columns', 500)"
   ]
  },
  {
   "cell_type": "code",
   "execution_count": 4,
   "metadata": {
    "collapsed": true
   },
   "outputs": [],
   "source": [
    "shelter_pd = pd.read_csv('train.csv')"
   ]
  },
  {
   "cell_type": "code",
   "execution_count": 5,
   "metadata": {},
   "outputs": [
    {
     "data": {
      "text/html": [
       "<div>\n",
       "<table border=\"1\" class=\"dataframe\">\n",
       "  <thead>\n",
       "    <tr style=\"text-align: right;\">\n",
       "      <th></th>\n",
       "      <th>AnimalID</th>\n",
       "      <th>Name</th>\n",
       "      <th>DateTime</th>\n",
       "      <th>OutcomeType</th>\n",
       "      <th>OutcomeSubtype</th>\n",
       "      <th>AnimalType</th>\n",
       "      <th>SexuponOutcome</th>\n",
       "      <th>AgeuponOutcome</th>\n",
       "      <th>Breed</th>\n",
       "      <th>Color</th>\n",
       "    </tr>\n",
       "  </thead>\n",
       "  <tbody>\n",
       "    <tr>\n",
       "      <th>0</th>\n",
       "      <td>A671945</td>\n",
       "      <td>Hambone</td>\n",
       "      <td>2014-02-12 18:22:00</td>\n",
       "      <td>Return_to_owner</td>\n",
       "      <td>NaN</td>\n",
       "      <td>Dog</td>\n",
       "      <td>Neutered Male</td>\n",
       "      <td>1 year</td>\n",
       "      <td>Shetland Sheepdog Mix</td>\n",
       "      <td>Brown/White</td>\n",
       "    </tr>\n",
       "    <tr>\n",
       "      <th>1</th>\n",
       "      <td>A656520</td>\n",
       "      <td>Emily</td>\n",
       "      <td>2013-10-13 12:44:00</td>\n",
       "      <td>Euthanasia</td>\n",
       "      <td>Suffering</td>\n",
       "      <td>Cat</td>\n",
       "      <td>Spayed Female</td>\n",
       "      <td>1 year</td>\n",
       "      <td>Domestic Shorthair Mix</td>\n",
       "      <td>Cream Tabby</td>\n",
       "    </tr>\n",
       "    <tr>\n",
       "      <th>2</th>\n",
       "      <td>A686464</td>\n",
       "      <td>Pearce</td>\n",
       "      <td>2015-01-31 12:28:00</td>\n",
       "      <td>Adoption</td>\n",
       "      <td>Foster</td>\n",
       "      <td>Dog</td>\n",
       "      <td>Neutered Male</td>\n",
       "      <td>2 years</td>\n",
       "      <td>Pit Bull Mix</td>\n",
       "      <td>Blue/White</td>\n",
       "    </tr>\n",
       "    <tr>\n",
       "      <th>3</th>\n",
       "      <td>A683430</td>\n",
       "      <td>NaN</td>\n",
       "      <td>2014-07-11 19:09:00</td>\n",
       "      <td>Transfer</td>\n",
       "      <td>Partner</td>\n",
       "      <td>Cat</td>\n",
       "      <td>Intact Male</td>\n",
       "      <td>3 weeks</td>\n",
       "      <td>Domestic Shorthair Mix</td>\n",
       "      <td>Blue Cream</td>\n",
       "    </tr>\n",
       "    <tr>\n",
       "      <th>4</th>\n",
       "      <td>A667013</td>\n",
       "      <td>NaN</td>\n",
       "      <td>2013-11-15 12:52:00</td>\n",
       "      <td>Transfer</td>\n",
       "      <td>Partner</td>\n",
       "      <td>Dog</td>\n",
       "      <td>Neutered Male</td>\n",
       "      <td>2 years</td>\n",
       "      <td>Lhasa Apso/Miniature Poodle</td>\n",
       "      <td>Tan</td>\n",
       "    </tr>\n",
       "    <tr>\n",
       "      <th>5</th>\n",
       "      <td>A677334</td>\n",
       "      <td>Elsa</td>\n",
       "      <td>2014-04-25 13:04:00</td>\n",
       "      <td>Transfer</td>\n",
       "      <td>Partner</td>\n",
       "      <td>Dog</td>\n",
       "      <td>Intact Female</td>\n",
       "      <td>1 month</td>\n",
       "      <td>Cairn Terrier/Chihuahua Shorthair</td>\n",
       "      <td>Black/Tan</td>\n",
       "    </tr>\n",
       "    <tr>\n",
       "      <th>6</th>\n",
       "      <td>A699218</td>\n",
       "      <td>Jimmy</td>\n",
       "      <td>2015-03-28 13:11:00</td>\n",
       "      <td>Transfer</td>\n",
       "      <td>Partner</td>\n",
       "      <td>Cat</td>\n",
       "      <td>Intact Male</td>\n",
       "      <td>3 weeks</td>\n",
       "      <td>Domestic Shorthair Mix</td>\n",
       "      <td>Blue Tabby</td>\n",
       "    </tr>\n",
       "    <tr>\n",
       "      <th>7</th>\n",
       "      <td>A701489</td>\n",
       "      <td>NaN</td>\n",
       "      <td>2015-04-30 17:02:00</td>\n",
       "      <td>Transfer</td>\n",
       "      <td>Partner</td>\n",
       "      <td>Cat</td>\n",
       "      <td>Unknown</td>\n",
       "      <td>3 weeks</td>\n",
       "      <td>Domestic Shorthair Mix</td>\n",
       "      <td>Brown Tabby</td>\n",
       "    </tr>\n",
       "    <tr>\n",
       "      <th>8</th>\n",
       "      <td>A671784</td>\n",
       "      <td>Lucy</td>\n",
       "      <td>2014-02-04 17:17:00</td>\n",
       "      <td>Adoption</td>\n",
       "      <td>NaN</td>\n",
       "      <td>Dog</td>\n",
       "      <td>Spayed Female</td>\n",
       "      <td>5 months</td>\n",
       "      <td>American Pit Bull Terrier Mix</td>\n",
       "      <td>Red/White</td>\n",
       "    </tr>\n",
       "    <tr>\n",
       "      <th>9</th>\n",
       "      <td>A677747</td>\n",
       "      <td>NaN</td>\n",
       "      <td>2014-05-03 07:48:00</td>\n",
       "      <td>Adoption</td>\n",
       "      <td>Offsite</td>\n",
       "      <td>Dog</td>\n",
       "      <td>Spayed Female</td>\n",
       "      <td>1 year</td>\n",
       "      <td>Cairn Terrier</td>\n",
       "      <td>White</td>\n",
       "    </tr>\n",
       "    <tr>\n",
       "      <th>10</th>\n",
       "      <td>A668402</td>\n",
       "      <td>NaN</td>\n",
       "      <td>2013-12-05 15:50:00</td>\n",
       "      <td>Transfer</td>\n",
       "      <td>SCRP</td>\n",
       "      <td>Cat</td>\n",
       "      <td>Unknown</td>\n",
       "      <td>2 years</td>\n",
       "      <td>Domestic Shorthair Mix</td>\n",
       "      <td>Black</td>\n",
       "    </tr>\n",
       "    <tr>\n",
       "      <th>11</th>\n",
       "      <td>A666320</td>\n",
       "      <td>NaN</td>\n",
       "      <td>2013-11-04 14:48:00</td>\n",
       "      <td>Adoption</td>\n",
       "      <td>NaN</td>\n",
       "      <td>Dog</td>\n",
       "      <td>Spayed Female</td>\n",
       "      <td>2 years</td>\n",
       "      <td>Miniature Schnauzer Mix</td>\n",
       "      <td>Silver</td>\n",
       "    </tr>\n",
       "    <tr>\n",
       "      <th>12</th>\n",
       "      <td>A684601</td>\n",
       "      <td>Rocket</td>\n",
       "      <td>2016-02-03 11:27:00</td>\n",
       "      <td>Adoption</td>\n",
       "      <td>Foster</td>\n",
       "      <td>Dog</td>\n",
       "      <td>Neutered Male</td>\n",
       "      <td>4 years</td>\n",
       "      <td>Pit Bull Mix</td>\n",
       "      <td>Brown</td>\n",
       "    </tr>\n",
       "    <tr>\n",
       "      <th>13</th>\n",
       "      <td>A704702</td>\n",
       "      <td>Scooter</td>\n",
       "      <td>2015-06-08 16:30:00</td>\n",
       "      <td>Return_to_owner</td>\n",
       "      <td>NaN</td>\n",
       "      <td>Dog</td>\n",
       "      <td>Neutered Male</td>\n",
       "      <td>2 years</td>\n",
       "      <td>Yorkshire Terrier Mix</td>\n",
       "      <td>Black/Red</td>\n",
       "    </tr>\n",
       "    <tr>\n",
       "      <th>14</th>\n",
       "      <td>A688584</td>\n",
       "      <td>Preston</td>\n",
       "      <td>2015-11-25 15:00:00</td>\n",
       "      <td>Return_to_owner</td>\n",
       "      <td>NaN</td>\n",
       "      <td>Dog</td>\n",
       "      <td>Neutered Male</td>\n",
       "      <td>1 year</td>\n",
       "      <td>Great Pyrenees Mix</td>\n",
       "      <td>White/Cream</td>\n",
       "    </tr>\n",
       "    <tr>\n",
       "      <th>15</th>\n",
       "      <td>A678825</td>\n",
       "      <td>Oliver</td>\n",
       "      <td>2014-07-12 12:10:00</td>\n",
       "      <td>Adoption</td>\n",
       "      <td>Foster</td>\n",
       "      <td>Cat</td>\n",
       "      <td>Neutered Male</td>\n",
       "      <td>3 months</td>\n",
       "      <td>Domestic Shorthair Mix</td>\n",
       "      <td>Orange Tabby/White</td>\n",
       "    </tr>\n",
       "    <tr>\n",
       "      <th>16</th>\n",
       "      <td>A678050</td>\n",
       "      <td>NaN</td>\n",
       "      <td>2014-05-03 16:15:00</td>\n",
       "      <td>Transfer</td>\n",
       "      <td>Partner</td>\n",
       "      <td>Cat</td>\n",
       "      <td>Intact Male</td>\n",
       "      <td>3 weeks</td>\n",
       "      <td>Domestic Shorthair Mix</td>\n",
       "      <td>Brown Tabby</td>\n",
       "    </tr>\n",
       "    <tr>\n",
       "      <th>17</th>\n",
       "      <td>A680028</td>\n",
       "      <td>NaN</td>\n",
       "      <td>2014-06-07 12:54:00</td>\n",
       "      <td>Transfer</td>\n",
       "      <td>Partner</td>\n",
       "      <td>Dog</td>\n",
       "      <td>Intact Female</td>\n",
       "      <td>2 weeks</td>\n",
       "      <td>Pit Bull Mix</td>\n",
       "      <td>Brown/White</td>\n",
       "    </tr>\n",
       "    <tr>\n",
       "      <th>18</th>\n",
       "      <td>A679010</td>\n",
       "      <td>Chrissy</td>\n",
       "      <td>2014-05-17 11:32:00</td>\n",
       "      <td>Transfer</td>\n",
       "      <td>Partner</td>\n",
       "      <td>Cat</td>\n",
       "      <td>Intact Female</td>\n",
       "      <td>2 years</td>\n",
       "      <td>Angora Mix</td>\n",
       "      <td>White</td>\n",
       "    </tr>\n",
       "    <tr>\n",
       "      <th>19</th>\n",
       "      <td>A684787</td>\n",
       "      <td>Kuma</td>\n",
       "      <td>2014-07-30 17:34:00</td>\n",
       "      <td>Return_to_owner</td>\n",
       "      <td>NaN</td>\n",
       "      <td>Dog</td>\n",
       "      <td>Neutered Male</td>\n",
       "      <td>1 year</td>\n",
       "      <td>Flat Coat Retriever Mix</td>\n",
       "      <td>Black</td>\n",
       "    </tr>\n",
       "    <tr>\n",
       "      <th>20</th>\n",
       "      <td>A670658</td>\n",
       "      <td>Anders</td>\n",
       "      <td>2014-01-19 15:03:00</td>\n",
       "      <td>Transfer</td>\n",
       "      <td>Partner</td>\n",
       "      <td>Dog</td>\n",
       "      <td>Intact Male</td>\n",
       "      <td>2 months</td>\n",
       "      <td>Queensland Heeler Mix</td>\n",
       "      <td>Black/White</td>\n",
       "    </tr>\n",
       "    <tr>\n",
       "      <th>21</th>\n",
       "      <td>A708812</td>\n",
       "      <td>Munchkin</td>\n",
       "      <td>2015-09-18 15:19:00</td>\n",
       "      <td>Transfer</td>\n",
       "      <td>Partner</td>\n",
       "      <td>Cat</td>\n",
       "      <td>Spayed Female</td>\n",
       "      <td>1 year</td>\n",
       "      <td>Domestic Shorthair Mix</td>\n",
       "      <td>White</td>\n",
       "    </tr>\n",
       "    <tr>\n",
       "      <th>22</th>\n",
       "      <td>A705262</td>\n",
       "      <td>Jamaica</td>\n",
       "      <td>2015-08-15 14:22:00</td>\n",
       "      <td>Adoption</td>\n",
       "      <td>NaN</td>\n",
       "      <td>Dog</td>\n",
       "      <td>Spayed Female</td>\n",
       "      <td>2 years</td>\n",
       "      <td>Plott Hound/Boxer</td>\n",
       "      <td>Brown Brindle/White</td>\n",
       "    </tr>\n",
       "    <tr>\n",
       "      <th>23</th>\n",
       "      <td>A665781</td>\n",
       "      <td>Quattro</td>\n",
       "      <td>2013-10-28 16:32:00</td>\n",
       "      <td>Adoption</td>\n",
       "      <td>NaN</td>\n",
       "      <td>Dog</td>\n",
       "      <td>Neutered Male</td>\n",
       "      <td>10 months</td>\n",
       "      <td>German Shepherd Mix</td>\n",
       "      <td>Brown/White</td>\n",
       "    </tr>\n",
       "    <tr>\n",
       "      <th>24</th>\n",
       "      <td>A676333</td>\n",
       "      <td>Trigger</td>\n",
       "      <td>2014-04-09 17:44:00</td>\n",
       "      <td>Return_to_owner</td>\n",
       "      <td>NaN</td>\n",
       "      <td>Dog</td>\n",
       "      <td>Neutered Male</td>\n",
       "      <td>2 months</td>\n",
       "      <td>German Shepherd Mix</td>\n",
       "      <td>Black/Brown</td>\n",
       "    </tr>\n",
       "    <tr>\n",
       "      <th>25</th>\n",
       "      <td>A712750</td>\n",
       "      <td>Olive</td>\n",
       "      <td>2015-10-03 15:44:00</td>\n",
       "      <td>Transfer</td>\n",
       "      <td>Partner</td>\n",
       "      <td>Cat</td>\n",
       "      <td>Intact Female</td>\n",
       "      <td>1 month</td>\n",
       "      <td>Domestic Shorthair Mix</td>\n",
       "      <td>Orange Tabby</td>\n",
       "    </tr>\n",
       "    <tr>\n",
       "      <th>26</th>\n",
       "      <td>A718832</td>\n",
       "      <td>Nia</td>\n",
       "      <td>2016-01-15 17:31:00</td>\n",
       "      <td>Adoption</td>\n",
       "      <td>NaN</td>\n",
       "      <td>Dog</td>\n",
       "      <td>Spayed Female</td>\n",
       "      <td>6 months</td>\n",
       "      <td>American Staffordshire Terrier Mix</td>\n",
       "      <td>Chocolate/White</td>\n",
       "    </tr>\n",
       "    <tr>\n",
       "      <th>27</th>\n",
       "      <td>A698777</td>\n",
       "      <td>Chloe</td>\n",
       "      <td>2015-03-25 18:50:00</td>\n",
       "      <td>Adoption</td>\n",
       "      <td>NaN</td>\n",
       "      <td>Dog</td>\n",
       "      <td>Spayed Female</td>\n",
       "      <td>5 years</td>\n",
       "      <td>Chihuahua Shorthair Mix</td>\n",
       "      <td>White/Tan</td>\n",
       "    </tr>\n",
       "    <tr>\n",
       "      <th>28</th>\n",
       "      <td>A715348</td>\n",
       "      <td>Cymbale</td>\n",
       "      <td>2015-11-21 13:01:00</td>\n",
       "      <td>Adoption</td>\n",
       "      <td>NaN</td>\n",
       "      <td>Cat</td>\n",
       "      <td>Spayed Female</td>\n",
       "      <td>2 months</td>\n",
       "      <td>Domestic Shorthair Mix</td>\n",
       "      <td>Cream Tabby/White</td>\n",
       "    </tr>\n",
       "    <tr>\n",
       "      <th>29</th>\n",
       "      <td>A708666</td>\n",
       "      <td>Jax</td>\n",
       "      <td>2015-07-30 14:30:00</td>\n",
       "      <td>Return_to_owner</td>\n",
       "      <td>NaN</td>\n",
       "      <td>Cat</td>\n",
       "      <td>Neutered Male</td>\n",
       "      <td>7 years</td>\n",
       "      <td>Russian Blue Mix</td>\n",
       "      <td>Blue</td>\n",
       "    </tr>\n",
       "    <tr>\n",
       "      <th>...</th>\n",
       "      <td>...</td>\n",
       "      <td>...</td>\n",
       "      <td>...</td>\n",
       "      <td>...</td>\n",
       "      <td>...</td>\n",
       "      <td>...</td>\n",
       "      <td>...</td>\n",
       "      <td>...</td>\n",
       "      <td>...</td>\n",
       "      <td>...</td>\n",
       "    </tr>\n",
       "    <tr>\n",
       "      <th>26699</th>\n",
       "      <td>A676460</td>\n",
       "      <td>Mario</td>\n",
       "      <td>2014-04-21 14:01:00</td>\n",
       "      <td>Euthanasia</td>\n",
       "      <td>Behavior</td>\n",
       "      <td>Dog</td>\n",
       "      <td>Neutered Male</td>\n",
       "      <td>2 years</td>\n",
       "      <td>American Pit Bull Terrier Mix</td>\n",
       "      <td>White/Black</td>\n",
       "    </tr>\n",
       "    <tr>\n",
       "      <th>26700</th>\n",
       "      <td>A704999</td>\n",
       "      <td>Lion</td>\n",
       "      <td>2015-06-15 19:28:00</td>\n",
       "      <td>Return_to_owner</td>\n",
       "      <td>NaN</td>\n",
       "      <td>Dog</td>\n",
       "      <td>Intact Male</td>\n",
       "      <td>10 months</td>\n",
       "      <td>Great Pyrenees/Anatol Shepherd</td>\n",
       "      <td>Tan/Cream</td>\n",
       "    </tr>\n",
       "    <tr>\n",
       "      <th>26701</th>\n",
       "      <td>A678842</td>\n",
       "      <td>Ella</td>\n",
       "      <td>2014-06-15 17:41:00</td>\n",
       "      <td>Transfer</td>\n",
       "      <td>Partner</td>\n",
       "      <td>Dog</td>\n",
       "      <td>Intact Female</td>\n",
       "      <td>11 months</td>\n",
       "      <td>Jack Russell Terrier Mix</td>\n",
       "      <td>White/Black</td>\n",
       "    </tr>\n",
       "    <tr>\n",
       "      <th>26702</th>\n",
       "      <td>A713637</td>\n",
       "      <td>NaN</td>\n",
       "      <td>2015-10-11 09:42:00</td>\n",
       "      <td>Died</td>\n",
       "      <td>In Kennel</td>\n",
       "      <td>Cat</td>\n",
       "      <td>Spayed Female</td>\n",
       "      <td>2 years</td>\n",
       "      <td>Siamese Mix</td>\n",
       "      <td>Lynx Point</td>\n",
       "    </tr>\n",
       "    <tr>\n",
       "      <th>26703</th>\n",
       "      <td>A716670</td>\n",
       "      <td>Mowmow</td>\n",
       "      <td>2015-12-04 12:22:00</td>\n",
       "      <td>Transfer</td>\n",
       "      <td>Partner</td>\n",
       "      <td>Cat</td>\n",
       "      <td>Neutered Male</td>\n",
       "      <td>6 years</td>\n",
       "      <td>Domestic Longhair Mix</td>\n",
       "      <td>Seal Point</td>\n",
       "    </tr>\n",
       "    <tr>\n",
       "      <th>26704</th>\n",
       "      <td>A716223</td>\n",
       "      <td>Alice</td>\n",
       "      <td>2015-11-17 17:17:00</td>\n",
       "      <td>Transfer</td>\n",
       "      <td>Partner</td>\n",
       "      <td>Cat</td>\n",
       "      <td>Intact Female</td>\n",
       "      <td>4 weeks</td>\n",
       "      <td>Domestic Shorthair Mix</td>\n",
       "      <td>White/Black</td>\n",
       "    </tr>\n",
       "    <tr>\n",
       "      <th>26705</th>\n",
       "      <td>A662498</td>\n",
       "      <td>Grace</td>\n",
       "      <td>2013-10-19 15:34:00</td>\n",
       "      <td>Transfer</td>\n",
       "      <td>Partner</td>\n",
       "      <td>Cat</td>\n",
       "      <td>Intact Female</td>\n",
       "      <td>2 months</td>\n",
       "      <td>Domestic Shorthair Mix</td>\n",
       "      <td>Tortie</td>\n",
       "    </tr>\n",
       "    <tr>\n",
       "      <th>26706</th>\n",
       "      <td>A689942</td>\n",
       "      <td>Zoey</td>\n",
       "      <td>2014-10-19 13:29:00</td>\n",
       "      <td>Adoption</td>\n",
       "      <td>NaN</td>\n",
       "      <td>Cat</td>\n",
       "      <td>Spayed Female</td>\n",
       "      <td>2 months</td>\n",
       "      <td>Domestic Shorthair Mix</td>\n",
       "      <td>Black</td>\n",
       "    </tr>\n",
       "    <tr>\n",
       "      <th>26707</th>\n",
       "      <td>A682690</td>\n",
       "      <td>NaN</td>\n",
       "      <td>2014-07-01 17:06:00</td>\n",
       "      <td>Euthanasia</td>\n",
       "      <td>Suffering</td>\n",
       "      <td>Cat</td>\n",
       "      <td>Unknown</td>\n",
       "      <td>1 year</td>\n",
       "      <td>Domestic Shorthair Mix</td>\n",
       "      <td>Brown Tabby</td>\n",
       "    </tr>\n",
       "    <tr>\n",
       "      <th>26708</th>\n",
       "      <td>A666920</td>\n",
       "      <td>Herbie</td>\n",
       "      <td>2013-11-13 17:32:00</td>\n",
       "      <td>Transfer</td>\n",
       "      <td>Partner</td>\n",
       "      <td>Dog</td>\n",
       "      <td>Neutered Male</td>\n",
       "      <td>2 years</td>\n",
       "      <td>Chihuahua Shorthair Mix</td>\n",
       "      <td>White/Brown</td>\n",
       "    </tr>\n",
       "    <tr>\n",
       "      <th>26709</th>\n",
       "      <td>A714386</td>\n",
       "      <td>NaN</td>\n",
       "      <td>2015-10-24 00:00:00</td>\n",
       "      <td>Adoption</td>\n",
       "      <td>NaN</td>\n",
       "      <td>Dog</td>\n",
       "      <td>Spayed Female</td>\n",
       "      <td>1 month</td>\n",
       "      <td>Chihuahua Shorthair Mix</td>\n",
       "      <td>Sable/Buff</td>\n",
       "    </tr>\n",
       "    <tr>\n",
       "      <th>26710</th>\n",
       "      <td>A692622</td>\n",
       "      <td>Bonnie</td>\n",
       "      <td>2014-11-24 17:21:00</td>\n",
       "      <td>Transfer</td>\n",
       "      <td>Partner</td>\n",
       "      <td>Dog</td>\n",
       "      <td>Intact Female</td>\n",
       "      <td>1 month</td>\n",
       "      <td>Chihuahua Shorthair/Yorkshire Terrier</td>\n",
       "      <td>Brown/Black</td>\n",
       "    </tr>\n",
       "    <tr>\n",
       "      <th>26711</th>\n",
       "      <td>A666284</td>\n",
       "      <td>Sonja</td>\n",
       "      <td>2013-10-30 18:32:00</td>\n",
       "      <td>Transfer</td>\n",
       "      <td>Partner</td>\n",
       "      <td>Dog</td>\n",
       "      <td>Intact Female</td>\n",
       "      <td>1 year</td>\n",
       "      <td>Cocker Spaniel/Dachshund</td>\n",
       "      <td>Buff</td>\n",
       "    </tr>\n",
       "    <tr>\n",
       "      <th>26712</th>\n",
       "      <td>A535277</td>\n",
       "      <td>Merlin</td>\n",
       "      <td>2015-04-20 16:04:00</td>\n",
       "      <td>Return_to_owner</td>\n",
       "      <td>NaN</td>\n",
       "      <td>Dog</td>\n",
       "      <td>Neutered Male</td>\n",
       "      <td>12 years</td>\n",
       "      <td>Rat Terrier</td>\n",
       "      <td>Chocolate/Tan</td>\n",
       "    </tr>\n",
       "    <tr>\n",
       "      <th>26713</th>\n",
       "      <td>A671169</td>\n",
       "      <td>NaN</td>\n",
       "      <td>2014-01-20 17:37:00</td>\n",
       "      <td>Euthanasia</td>\n",
       "      <td>Suffering</td>\n",
       "      <td>Cat</td>\n",
       "      <td>Intact Female</td>\n",
       "      <td>18 years</td>\n",
       "      <td>Domestic Longhair Mix</td>\n",
       "      <td>Tortie</td>\n",
       "    </tr>\n",
       "    <tr>\n",
       "      <th>26714</th>\n",
       "      <td>A679031</td>\n",
       "      <td>Pete</td>\n",
       "      <td>2014-05-31 16:11:00</td>\n",
       "      <td>Adoption</td>\n",
       "      <td>NaN</td>\n",
       "      <td>Cat</td>\n",
       "      <td>Spayed Female</td>\n",
       "      <td>2 months</td>\n",
       "      <td>Domestic Shorthair Mix</td>\n",
       "      <td>Orange Tabby</td>\n",
       "    </tr>\n",
       "    <tr>\n",
       "      <th>26715</th>\n",
       "      <td>A708833</td>\n",
       "      <td>Luna</td>\n",
       "      <td>2015-08-05 17:03:00</td>\n",
       "      <td>Adoption</td>\n",
       "      <td>NaN</td>\n",
       "      <td>Dog</td>\n",
       "      <td>Spayed Female</td>\n",
       "      <td>2 months</td>\n",
       "      <td>Pointer Mix</td>\n",
       "      <td>Black/White</td>\n",
       "    </tr>\n",
       "    <tr>\n",
       "      <th>26716</th>\n",
       "      <td>A697158</td>\n",
       "      <td>Max</td>\n",
       "      <td>2015-05-02 21:04:00</td>\n",
       "      <td>Adoption</td>\n",
       "      <td>Offsite</td>\n",
       "      <td>Dog</td>\n",
       "      <td>Neutered Male</td>\n",
       "      <td>2 months</td>\n",
       "      <td>Newfoundland Mix</td>\n",
       "      <td>White/Black</td>\n",
       "    </tr>\n",
       "    <tr>\n",
       "      <th>26717</th>\n",
       "      <td>A519949</td>\n",
       "      <td>Bella</td>\n",
       "      <td>2014-06-30 17:34:00</td>\n",
       "      <td>Return_to_owner</td>\n",
       "      <td>NaN</td>\n",
       "      <td>Dog</td>\n",
       "      <td>Spayed Female</td>\n",
       "      <td>9 years</td>\n",
       "      <td>Bullmastiff Mix</td>\n",
       "      <td>Black</td>\n",
       "    </tr>\n",
       "    <tr>\n",
       "      <th>26718</th>\n",
       "      <td>A701044</td>\n",
       "      <td>NaN</td>\n",
       "      <td>2015-04-28 14:26:00</td>\n",
       "      <td>Adoption</td>\n",
       "      <td>NaN</td>\n",
       "      <td>Dog</td>\n",
       "      <td>Neutered Male</td>\n",
       "      <td>2 months</td>\n",
       "      <td>Siberian Husky/German Shepherd</td>\n",
       "      <td>Black/Tricolor</td>\n",
       "    </tr>\n",
       "    <tr>\n",
       "      <th>26719</th>\n",
       "      <td>A707871</td>\n",
       "      <td>NaN</td>\n",
       "      <td>2015-07-20 09:00:00</td>\n",
       "      <td>Transfer</td>\n",
       "      <td>SCRP</td>\n",
       "      <td>Cat</td>\n",
       "      <td>Unknown</td>\n",
       "      <td>2 years</td>\n",
       "      <td>Domestic Shorthair Mix</td>\n",
       "      <td>Brown Tabby/White</td>\n",
       "    </tr>\n",
       "    <tr>\n",
       "      <th>26720</th>\n",
       "      <td>A704405</td>\n",
       "      <td>Brownie</td>\n",
       "      <td>2015-07-18 14:08:00</td>\n",
       "      <td>Adoption</td>\n",
       "      <td>NaN</td>\n",
       "      <td>Cat</td>\n",
       "      <td>Spayed Female</td>\n",
       "      <td>2 months</td>\n",
       "      <td>Domestic Shorthair Mix</td>\n",
       "      <td>Brown Tabby</td>\n",
       "    </tr>\n",
       "    <tr>\n",
       "      <th>26721</th>\n",
       "      <td>A662019</td>\n",
       "      <td>Green Bean</td>\n",
       "      <td>2014-07-17 09:43:00</td>\n",
       "      <td>Adoption</td>\n",
       "      <td>Foster</td>\n",
       "      <td>Cat</td>\n",
       "      <td>Spayed Female</td>\n",
       "      <td>5 years</td>\n",
       "      <td>Domestic Shorthair Mix</td>\n",
       "      <td>Black</td>\n",
       "    </tr>\n",
       "    <tr>\n",
       "      <th>26722</th>\n",
       "      <td>A687056</td>\n",
       "      <td>NaN</td>\n",
       "      <td>2014-08-31 09:00:00</td>\n",
       "      <td>Transfer</td>\n",
       "      <td>SCRP</td>\n",
       "      <td>Cat</td>\n",
       "      <td>Intact Male</td>\n",
       "      <td>5 months</td>\n",
       "      <td>Domestic Shorthair Mix</td>\n",
       "      <td>Orange Tabby</td>\n",
       "    </tr>\n",
       "    <tr>\n",
       "      <th>26723</th>\n",
       "      <td>A716997</td>\n",
       "      <td>Zeus</td>\n",
       "      <td>2016-01-29 18:52:00</td>\n",
       "      <td>Adoption</td>\n",
       "      <td>NaN</td>\n",
       "      <td>Dog</td>\n",
       "      <td>Neutered Male</td>\n",
       "      <td>6 years</td>\n",
       "      <td>Staffordshire Mix</td>\n",
       "      <td>Blue/White</td>\n",
       "    </tr>\n",
       "    <tr>\n",
       "      <th>26724</th>\n",
       "      <td>A702446</td>\n",
       "      <td>NaN</td>\n",
       "      <td>2015-05-14 11:56:00</td>\n",
       "      <td>Transfer</td>\n",
       "      <td>Partner</td>\n",
       "      <td>Cat</td>\n",
       "      <td>Intact Male</td>\n",
       "      <td>1 month</td>\n",
       "      <td>Domestic Shorthair Mix</td>\n",
       "      <td>Brown Tabby/White</td>\n",
       "    </tr>\n",
       "    <tr>\n",
       "      <th>26725</th>\n",
       "      <td>A718934</td>\n",
       "      <td>NaN</td>\n",
       "      <td>2016-01-20 18:59:00</td>\n",
       "      <td>Transfer</td>\n",
       "      <td>SCRP</td>\n",
       "      <td>Cat</td>\n",
       "      <td>Spayed Female</td>\n",
       "      <td>3 months</td>\n",
       "      <td>Domestic Shorthair Mix</td>\n",
       "      <td>Brown Tabby</td>\n",
       "    </tr>\n",
       "    <tr>\n",
       "      <th>26726</th>\n",
       "      <td>A698128</td>\n",
       "      <td>Zeus</td>\n",
       "      <td>2015-03-09 13:33:00</td>\n",
       "      <td>Adoption</td>\n",
       "      <td>NaN</td>\n",
       "      <td>Dog</td>\n",
       "      <td>Neutered Male</td>\n",
       "      <td>4 years</td>\n",
       "      <td>Old English Bulldog Mix</td>\n",
       "      <td>White/Tan</td>\n",
       "    </tr>\n",
       "    <tr>\n",
       "      <th>26727</th>\n",
       "      <td>A677478</td>\n",
       "      <td>NaN</td>\n",
       "      <td>2014-04-27 12:22:00</td>\n",
       "      <td>Transfer</td>\n",
       "      <td>Partner</td>\n",
       "      <td>Cat</td>\n",
       "      <td>Intact Male</td>\n",
       "      <td>4 weeks</td>\n",
       "      <td>Domestic Shorthair Mix</td>\n",
       "      <td>Black</td>\n",
       "    </tr>\n",
       "    <tr>\n",
       "      <th>26728</th>\n",
       "      <td>A706629</td>\n",
       "      <td>NaN</td>\n",
       "      <td>2015-07-02 09:00:00</td>\n",
       "      <td>Transfer</td>\n",
       "      <td>SCRP</td>\n",
       "      <td>Cat</td>\n",
       "      <td>Intact Male</td>\n",
       "      <td>1 year</td>\n",
       "      <td>Domestic Shorthair Mix</td>\n",
       "      <td>Brown Tabby/White</td>\n",
       "    </tr>\n",
       "  </tbody>\n",
       "</table>\n",
       "<p>26729 rows × 10 columns</p>\n",
       "</div>"
      ],
      "text/plain": [
       "      AnimalID        Name             DateTime      OutcomeType  \\\n",
       "0      A671945     Hambone  2014-02-12 18:22:00  Return_to_owner   \n",
       "1      A656520       Emily  2013-10-13 12:44:00       Euthanasia   \n",
       "2      A686464      Pearce  2015-01-31 12:28:00         Adoption   \n",
       "3      A683430         NaN  2014-07-11 19:09:00         Transfer   \n",
       "4      A667013         NaN  2013-11-15 12:52:00         Transfer   \n",
       "5      A677334        Elsa  2014-04-25 13:04:00         Transfer   \n",
       "6      A699218       Jimmy  2015-03-28 13:11:00         Transfer   \n",
       "7      A701489         NaN  2015-04-30 17:02:00         Transfer   \n",
       "8      A671784        Lucy  2014-02-04 17:17:00         Adoption   \n",
       "9      A677747         NaN  2014-05-03 07:48:00         Adoption   \n",
       "10     A668402         NaN  2013-12-05 15:50:00         Transfer   \n",
       "11     A666320         NaN  2013-11-04 14:48:00         Adoption   \n",
       "12     A684601      Rocket  2016-02-03 11:27:00         Adoption   \n",
       "13     A704702     Scooter  2015-06-08 16:30:00  Return_to_owner   \n",
       "14     A688584     Preston  2015-11-25 15:00:00  Return_to_owner   \n",
       "15     A678825      Oliver  2014-07-12 12:10:00         Adoption   \n",
       "16     A678050         NaN  2014-05-03 16:15:00         Transfer   \n",
       "17     A680028         NaN  2014-06-07 12:54:00         Transfer   \n",
       "18     A679010     Chrissy  2014-05-17 11:32:00         Transfer   \n",
       "19     A684787        Kuma  2014-07-30 17:34:00  Return_to_owner   \n",
       "20     A670658      Anders  2014-01-19 15:03:00         Transfer   \n",
       "21     A708812    Munchkin  2015-09-18 15:19:00         Transfer   \n",
       "22     A705262     Jamaica  2015-08-15 14:22:00         Adoption   \n",
       "23     A665781     Quattro  2013-10-28 16:32:00         Adoption   \n",
       "24     A676333     Trigger  2014-04-09 17:44:00  Return_to_owner   \n",
       "25     A712750       Olive  2015-10-03 15:44:00         Transfer   \n",
       "26     A718832         Nia  2016-01-15 17:31:00         Adoption   \n",
       "27     A698777       Chloe  2015-03-25 18:50:00         Adoption   \n",
       "28     A715348     Cymbale  2015-11-21 13:01:00         Adoption   \n",
       "29     A708666         Jax  2015-07-30 14:30:00  Return_to_owner   \n",
       "...        ...         ...                  ...              ...   \n",
       "26699  A676460       Mario  2014-04-21 14:01:00       Euthanasia   \n",
       "26700  A704999        Lion  2015-06-15 19:28:00  Return_to_owner   \n",
       "26701  A678842        Ella  2014-06-15 17:41:00         Transfer   \n",
       "26702  A713637         NaN  2015-10-11 09:42:00             Died   \n",
       "26703  A716670      Mowmow  2015-12-04 12:22:00         Transfer   \n",
       "26704  A716223       Alice  2015-11-17 17:17:00         Transfer   \n",
       "26705  A662498       Grace  2013-10-19 15:34:00         Transfer   \n",
       "26706  A689942        Zoey  2014-10-19 13:29:00         Adoption   \n",
       "26707  A682690         NaN  2014-07-01 17:06:00       Euthanasia   \n",
       "26708  A666920      Herbie  2013-11-13 17:32:00         Transfer   \n",
       "26709  A714386         NaN  2015-10-24 00:00:00         Adoption   \n",
       "26710  A692622      Bonnie  2014-11-24 17:21:00         Transfer   \n",
       "26711  A666284       Sonja  2013-10-30 18:32:00         Transfer   \n",
       "26712  A535277      Merlin  2015-04-20 16:04:00  Return_to_owner   \n",
       "26713  A671169         NaN  2014-01-20 17:37:00       Euthanasia   \n",
       "26714  A679031        Pete  2014-05-31 16:11:00         Adoption   \n",
       "26715  A708833        Luna  2015-08-05 17:03:00         Adoption   \n",
       "26716  A697158         Max  2015-05-02 21:04:00         Adoption   \n",
       "26717  A519949       Bella  2014-06-30 17:34:00  Return_to_owner   \n",
       "26718  A701044         NaN  2015-04-28 14:26:00         Adoption   \n",
       "26719  A707871         NaN  2015-07-20 09:00:00         Transfer   \n",
       "26720  A704405     Brownie  2015-07-18 14:08:00         Adoption   \n",
       "26721  A662019  Green Bean  2014-07-17 09:43:00         Adoption   \n",
       "26722  A687056         NaN  2014-08-31 09:00:00         Transfer   \n",
       "26723  A716997        Zeus  2016-01-29 18:52:00         Adoption   \n",
       "26724  A702446         NaN  2015-05-14 11:56:00         Transfer   \n",
       "26725  A718934         NaN  2016-01-20 18:59:00         Transfer   \n",
       "26726  A698128        Zeus  2015-03-09 13:33:00         Adoption   \n",
       "26727  A677478         NaN  2014-04-27 12:22:00         Transfer   \n",
       "26728  A706629         NaN  2015-07-02 09:00:00         Transfer   \n",
       "\n",
       "      OutcomeSubtype AnimalType SexuponOutcome AgeuponOutcome  \\\n",
       "0                NaN        Dog  Neutered Male         1 year   \n",
       "1          Suffering        Cat  Spayed Female         1 year   \n",
       "2             Foster        Dog  Neutered Male        2 years   \n",
       "3            Partner        Cat    Intact Male        3 weeks   \n",
       "4            Partner        Dog  Neutered Male        2 years   \n",
       "5            Partner        Dog  Intact Female        1 month   \n",
       "6            Partner        Cat    Intact Male        3 weeks   \n",
       "7            Partner        Cat        Unknown        3 weeks   \n",
       "8                NaN        Dog  Spayed Female       5 months   \n",
       "9            Offsite        Dog  Spayed Female         1 year   \n",
       "10              SCRP        Cat        Unknown        2 years   \n",
       "11               NaN        Dog  Spayed Female        2 years   \n",
       "12            Foster        Dog  Neutered Male        4 years   \n",
       "13               NaN        Dog  Neutered Male        2 years   \n",
       "14               NaN        Dog  Neutered Male         1 year   \n",
       "15            Foster        Cat  Neutered Male       3 months   \n",
       "16           Partner        Cat    Intact Male        3 weeks   \n",
       "17           Partner        Dog  Intact Female        2 weeks   \n",
       "18           Partner        Cat  Intact Female        2 years   \n",
       "19               NaN        Dog  Neutered Male         1 year   \n",
       "20           Partner        Dog    Intact Male       2 months   \n",
       "21           Partner        Cat  Spayed Female         1 year   \n",
       "22               NaN        Dog  Spayed Female        2 years   \n",
       "23               NaN        Dog  Neutered Male      10 months   \n",
       "24               NaN        Dog  Neutered Male       2 months   \n",
       "25           Partner        Cat  Intact Female        1 month   \n",
       "26               NaN        Dog  Spayed Female       6 months   \n",
       "27               NaN        Dog  Spayed Female        5 years   \n",
       "28               NaN        Cat  Spayed Female       2 months   \n",
       "29               NaN        Cat  Neutered Male        7 years   \n",
       "...              ...        ...            ...            ...   \n",
       "26699       Behavior        Dog  Neutered Male        2 years   \n",
       "26700            NaN        Dog    Intact Male      10 months   \n",
       "26701        Partner        Dog  Intact Female      11 months   \n",
       "26702      In Kennel        Cat  Spayed Female        2 years   \n",
       "26703        Partner        Cat  Neutered Male        6 years   \n",
       "26704        Partner        Cat  Intact Female        4 weeks   \n",
       "26705        Partner        Cat  Intact Female       2 months   \n",
       "26706            NaN        Cat  Spayed Female       2 months   \n",
       "26707      Suffering        Cat        Unknown         1 year   \n",
       "26708        Partner        Dog  Neutered Male        2 years   \n",
       "26709            NaN        Dog  Spayed Female        1 month   \n",
       "26710        Partner        Dog  Intact Female        1 month   \n",
       "26711        Partner        Dog  Intact Female         1 year   \n",
       "26712            NaN        Dog  Neutered Male       12 years   \n",
       "26713      Suffering        Cat  Intact Female       18 years   \n",
       "26714            NaN        Cat  Spayed Female       2 months   \n",
       "26715            NaN        Dog  Spayed Female       2 months   \n",
       "26716        Offsite        Dog  Neutered Male       2 months   \n",
       "26717            NaN        Dog  Spayed Female        9 years   \n",
       "26718            NaN        Dog  Neutered Male       2 months   \n",
       "26719           SCRP        Cat        Unknown        2 years   \n",
       "26720            NaN        Cat  Spayed Female       2 months   \n",
       "26721         Foster        Cat  Spayed Female        5 years   \n",
       "26722           SCRP        Cat    Intact Male       5 months   \n",
       "26723            NaN        Dog  Neutered Male        6 years   \n",
       "26724        Partner        Cat    Intact Male        1 month   \n",
       "26725           SCRP        Cat  Spayed Female       3 months   \n",
       "26726            NaN        Dog  Neutered Male        4 years   \n",
       "26727        Partner        Cat    Intact Male        4 weeks   \n",
       "26728           SCRP        Cat    Intact Male         1 year   \n",
       "\n",
       "                                       Breed                Color  \n",
       "0                      Shetland Sheepdog Mix          Brown/White  \n",
       "1                     Domestic Shorthair Mix          Cream Tabby  \n",
       "2                               Pit Bull Mix           Blue/White  \n",
       "3                     Domestic Shorthair Mix           Blue Cream  \n",
       "4                Lhasa Apso/Miniature Poodle                  Tan  \n",
       "5          Cairn Terrier/Chihuahua Shorthair            Black/Tan  \n",
       "6                     Domestic Shorthair Mix           Blue Tabby  \n",
       "7                     Domestic Shorthair Mix          Brown Tabby  \n",
       "8              American Pit Bull Terrier Mix            Red/White  \n",
       "9                              Cairn Terrier                White  \n",
       "10                    Domestic Shorthair Mix                Black  \n",
       "11                   Miniature Schnauzer Mix               Silver  \n",
       "12                              Pit Bull Mix                Brown  \n",
       "13                     Yorkshire Terrier Mix            Black/Red  \n",
       "14                        Great Pyrenees Mix          White/Cream  \n",
       "15                    Domestic Shorthair Mix   Orange Tabby/White  \n",
       "16                    Domestic Shorthair Mix          Brown Tabby  \n",
       "17                              Pit Bull Mix          Brown/White  \n",
       "18                                Angora Mix                White  \n",
       "19                   Flat Coat Retriever Mix                Black  \n",
       "20                     Queensland Heeler Mix          Black/White  \n",
       "21                    Domestic Shorthair Mix                White  \n",
       "22                         Plott Hound/Boxer  Brown Brindle/White  \n",
       "23                       German Shepherd Mix          Brown/White  \n",
       "24                       German Shepherd Mix          Black/Brown  \n",
       "25                    Domestic Shorthair Mix         Orange Tabby  \n",
       "26        American Staffordshire Terrier Mix      Chocolate/White  \n",
       "27                   Chihuahua Shorthair Mix            White/Tan  \n",
       "28                    Domestic Shorthair Mix    Cream Tabby/White  \n",
       "29                          Russian Blue Mix                 Blue  \n",
       "...                                      ...                  ...  \n",
       "26699          American Pit Bull Terrier Mix          White/Black  \n",
       "26700         Great Pyrenees/Anatol Shepherd            Tan/Cream  \n",
       "26701               Jack Russell Terrier Mix          White/Black  \n",
       "26702                            Siamese Mix           Lynx Point  \n",
       "26703                  Domestic Longhair Mix           Seal Point  \n",
       "26704                 Domestic Shorthair Mix          White/Black  \n",
       "26705                 Domestic Shorthair Mix               Tortie  \n",
       "26706                 Domestic Shorthair Mix                Black  \n",
       "26707                 Domestic Shorthair Mix          Brown Tabby  \n",
       "26708                Chihuahua Shorthair Mix          White/Brown  \n",
       "26709                Chihuahua Shorthair Mix           Sable/Buff  \n",
       "26710  Chihuahua Shorthair/Yorkshire Terrier          Brown/Black  \n",
       "26711               Cocker Spaniel/Dachshund                 Buff  \n",
       "26712                            Rat Terrier        Chocolate/Tan  \n",
       "26713                  Domestic Longhair Mix               Tortie  \n",
       "26714                 Domestic Shorthair Mix         Orange Tabby  \n",
       "26715                            Pointer Mix          Black/White  \n",
       "26716                       Newfoundland Mix          White/Black  \n",
       "26717                        Bullmastiff Mix                Black  \n",
       "26718         Siberian Husky/German Shepherd       Black/Tricolor  \n",
       "26719                 Domestic Shorthair Mix    Brown Tabby/White  \n",
       "26720                 Domestic Shorthair Mix          Brown Tabby  \n",
       "26721                 Domestic Shorthair Mix                Black  \n",
       "26722                 Domestic Shorthair Mix         Orange Tabby  \n",
       "26723                      Staffordshire Mix           Blue/White  \n",
       "26724                 Domestic Shorthair Mix    Brown Tabby/White  \n",
       "26725                 Domestic Shorthair Mix          Brown Tabby  \n",
       "26726                Old English Bulldog Mix            White/Tan  \n",
       "26727                 Domestic Shorthair Mix                Black  \n",
       "26728                 Domestic Shorthair Mix    Brown Tabby/White  \n",
       "\n",
       "[26729 rows x 10 columns]"
      ]
     },
     "execution_count": 5,
     "metadata": {},
     "output_type": "execute_result"
    }
   ],
   "source": [
    "shelter_pd"
   ]
  },
  {
   "cell_type": "markdown",
   "metadata": {},
   "source": [
    "## Análisis de datos"
   ]
  },
  {
   "cell_type": "markdown",
   "metadata": {},
   "source": [
    "En primer lugar es necesario analizar los datos. Por ello, se considera apropiado realizar el Data Quality Report."
   ]
  },
  {
   "cell_type": "code",
   "execution_count": null,
   "metadata": {},
   "outputs": [],
   "source": [
    "shelter_pd.describe(include = \"all\")"
   ]
  },
  {
   "cell_type": "markdown",
   "metadata": {},
   "source": [
    "El Data Quality Report nos da un análisis de los datos. Tenemos 26729 filas en el dataset y se puede ver que hay un missing value en la columna SexuponOutcome (<1%), 18 en AgeuponOutcome (<1%), 7691 en Name (~28.7%) y 13612 en OutcomeType(~50.9%).\n",
    "\n",
    "Como vamos a manejar el problema de los missing values?\n",
    "\n",
    "- En el caso de SexuponOutcome, podemos simplemente borrar las filas porque no va a afectar nuestro modelo de predicciones.\n",
    "- En el caso de AgeuponOutcome, vamos a borrar las filas también porque son muy pocos datos (<1%).\n",
    "- En el caso de Name, no nos importa porque no vamos a usar esa columna en nuestro modelo. (El nombre no influye el Outcome del animal..)\n",
    "- En el caso de OutcomeSubtype, tenemos muchos missing value porque por algunos valores de OutcomeType, como por ejemplo <i>Return_to_owner</i>, no hacía falta poner más información.\n",
    "\n",
    "Que tipo de transformaciones vamos a aplicar sobre los datos para que se pueda usar para crear un modelo de predicción?\n",
    "- Name: Borramos la columna porque no nos interesa en nuestras predicciones.\n",
    "- OutcomeType: Es un feature categórica entonces vamos a aplicar el StringIndexer para que lo transforme a feature numérica.\n",
    "- OutcomeSubtype: Borramos la columna porque no nos interesa en nuestras predicciones.\n",
    "- AnimalType: Es un feature categórica entonces vamos a aplicar el StringIndexer para que lo transforme a feature numérica.\n",
    "- SexuponOutcome: Es un feature categórica entonces vamos a aplicar el StringIndexer para que lo transforme a feature numérica.\n",
    "- AgeuponOutcome: Vamos a convertir cada edad en semana para que todos los datos tengan la misma MEDIDA??\n",
    "- Breed: Es un feature categórica entonces vamos a aplicar el StringIndexer para que lo transforme a feature numérica.\n",
    "- Color: Es un feature categórica entonces vamos a aplicar el StringIndexer para que lo transforme a feature numérica.\n",
    "\n",
    "Ahora vamos a limpiar los datos y transformar cada feature categórica a numérica para que se pueda usar para crear un modelo de predicción."
   ]
  },
  {
   "cell_type": "markdown",
   "metadata": {},
   "source": [
    "## Limpiando la información"
   ]
  },
  {
   "cell_type": "markdown",
   "metadata": {},
   "source": [
    "### <i>Name</i>"
   ]
  },
  {
   "cell_type": "markdown",
   "metadata": {},
   "source": [
    "En primera instancia se analizará el atributo <i>Name</i>. Cada valor será reemplazado por un 1 en caso de que éste exista, y 0 en caso contrario (missing value). Contando con cierto conocimiento del dominio, se supone que el nombre del animal no debería influenciar su destino. Sin embargo, un indicador de presencia/ausencia de dicho valor, puede indicar de dónde provino el animal. Por ejemplo, si el perro fue entregado por una familia, probablemente tenga un nombre. Si, en cambio, provino de la calle, puede que el nombre no se sepa. La forma en la que llega el animal al refugio, puede llegar a influenciar su destino; y éste es el motivo por el cuál se decide incluir este indicador."
   ]
  },
  {
   "cell_type": "code",
   "execution_count": 8,
   "metadata": {
    "collapsed": true
   },
   "outputs": [],
   "source": [
    "from pyspark.sql.functions import UserDefinedFunction\n",
    "from pyspark.sql.types import IntegerType, LongType, BooleanType, StringType\n",
    "\n",
    "\n",
    "class NameTransformer(Transformer, HasInputCol, HasOutputCol): \n",
    "    # Does binning using the module of the division\n",
    "    @keyword_only\n",
    "    def __init__(self, inputCol=None, outputCol=None):\n",
    "        super(NameTransformer, self).__init__()\n",
    "        kwargs = self.__init__._input_kwargs\n",
    "        self.setParams(**kwargs)\n",
    "        \n",
    "    @keyword_only \n",
    "    def setParams(self, inputCol=None, outputCol=None):\n",
    "        kwargs = self.setParams._input_kwargs\n",
    "        return self._set(**kwargs)\n",
    "        \n",
    "    def _transform(self, dataset):\n",
    "        in_col = dataset[self.getInputCol()]\n",
    "        out_col = self.getOutputCol()\n",
    "        udf = UserDefinedFunction(lambda x: category_func(x), BooleanType())\n",
    "        return dataset.withColumn(out_col, udf(in_col))\n",
    "\n",
    "def category_func(in_value):\n",
    "    if (in_value):\n",
    "        if in_value.lower() == 'nan':\n",
    "            return True\n",
    "        else:\n",
    "            return False\n",
    "    else:\n",
    "        return 0"
   ]
  },
  {
   "cell_type": "markdown",
   "metadata": {},
   "source": [
    "### <i>DateTime</i>"
   ]
  },
  {
   "cell_type": "markdown",
   "metadata": {},
   "source": [
    "Para lidiar con las fechas, se considera apropiado separarla en tres features diferentes: día, mes, año. De esta manera, una feature continua como <i>DateTime</i> se convierte en tres categóricas. Se ignora la hora porque no se considera relevante para el caso de estudio."
   ]
  },
  {
   "cell_type": "code",
   "execution_count": 9,
   "metadata": {
    "collapsed": true
   },
   "outputs": [],
   "source": [
    "class YearExtractor(Transformer, HasInputCol, HasOutputCol): \n",
    "    # Creates a column year\n",
    "    @keyword_only\n",
    "    def __init__(self, inputCol=None, outputCol=None):\n",
    "        super(YearExtractor, self).__init__()\n",
    "        kwargs = self.__init__._input_kwargs\n",
    "        self.setParams(**kwargs)\n",
    "        \n",
    "    @keyword_only \n",
    "    def setParams(self, inputCol=None, outputCol=None):\n",
    "        kwargs = self.setParams._input_kwargs\n",
    "        return self._set(**kwargs)\n",
    "        \n",
    "    def _transform(self, dataset):\n",
    "        in_col = dataset[self.getInputCol()]\n",
    "        out_col = self.getOutputCol()\n",
    "        udf = UserDefinedFunction(lambda x: isolateYear(x), StringType())\n",
    "        return dataset.withColumn(out_col, udf(in_col))\n",
    "\n",
    "class MonthExtractor(Transformer, HasInputCol, HasOutputCol): \n",
    "    # Creates a column month\n",
    "    @keyword_only\n",
    "    def __init__(self, inputCol=None, outputCol=None):\n",
    "        super(MonthExtractor, self).__init__()\n",
    "        kwargs = self.__init__._input_kwargs\n",
    "        self.setParams(**kwargs)\n",
    "        \n",
    "    @keyword_only \n",
    "    def setParams(self, inputCol=None, outputCol=None):\n",
    "        kwargs = self.setParams._input_kwargs\n",
    "        return self._set(**kwargs)\n",
    "        \n",
    "    def _transform(self, dataset):\n",
    "        in_col = dataset[self.getInputCol()]\n",
    "        out_col = self.getOutputCol()\n",
    "        udf = UserDefinedFunction(lambda x: isolateMonth(x), StringType())\n",
    "        return dataset.withColumn(out_col, udf(in_col))\n",
    "\n",
    "class DayExtractor(Transformer, HasInputCol, HasOutputCol): \n",
    "    # Creates a column day\n",
    "    @keyword_only\n",
    "    def __init__(self, inputCol=None, outputCol=None):\n",
    "        super(DayExtractor, self).__init__()\n",
    "        kwargs = self.__init__._input_kwargs\n",
    "        self.setParams(**kwargs)\n",
    "        \n",
    "    @keyword_only \n",
    "    def setParams(self, inputCol=None, outputCol=None):\n",
    "        kwargs = self.setParams._input_kwargs\n",
    "        return self._set(**kwargs)\n",
    "        \n",
    "    def _transform(self, dataset):\n",
    "        in_col = dataset[self.getInputCol()]\n",
    "        out_col = self.getOutputCol()\n",
    "        udf = UserDefinedFunction(lambda x: isolateDay(x), StringType())\n",
    "        return dataset.withColumn(out_col, udf(in_col))\n",
    "\n",
    "def isolateDay(in_value):\n",
    "    return in_value.split()[0][8:]\n",
    "\n",
    "def isolateMonth(in_value):\n",
    "    return in_value.split()[0][5:7]\n",
    "\n",
    "def isolateYear(in_value):\n",
    "    return in_value.split()[0][:4]"
   ]
  },
  {
   "cell_type": "markdown",
   "metadata": {},
   "source": [
    "### AgeuponOutcome"
   ]
  },
  {
   "cell_type": "markdown",
   "metadata": {},
   "source": [
    "Con respecto a la edad de los animales, se considero apropiado separarla en features distintas: young, young_adult, adult, old_adult y old. Para realizar esto se va utilizar Binning, pero se utilizara un binning informal el cual seapara las categorias en funcion de la cantidad de años del animal, ya que es de suma importancia para la prediccion que la edad del animal corresponda a su categoria especifica."
   ]
  },
  {
   "cell_type": "code",
   "execution_count": 10,
   "metadata": {},
   "outputs": [],
   "source": [
    "class AgeuponOutcomeTransformer(Transformer, HasInputCol, HasOutputCol): \n",
    "    # Does binning using the module of the division\n",
    "    @keyword_only\n",
    "    def __init__(self, inputCol=None, outputCol=None):\n",
    "        super(AgeuponOutcomeTransformer, self).__init__()\n",
    "        kwargs = self.__init__._input_kwargs\n",
    "        self.setParams(**kwargs)\n",
    "        \n",
    "    @keyword_only \n",
    "    def setParams(self, inputCol=None, outputCol=None):\n",
    "        kwargs = self.setParams._input_kwargs\n",
    "        return self._set(**kwargs)\n",
    "        \n",
    "    def _transform(self, dataset):\n",
    "        in_col = dataset[self.getInputCol()]\n",
    "        out_col = self.getOutputCol()\n",
    "        modeAttribute = getMode(shelter_df, self.getInputCol())\n",
    "        udf = UserDefinedFunction(lambda x: category_func(x, modeAttribute), StringType())\n",
    "        return dataset.withColumn(out_col, udf(in_col))\n",
    "\n",
    "def category_func(input_value, mode):\n",
    "    if (input_value):        \n",
    "        age_in_days = 0\n",
    "        splited_value = input_value.split(' ')        \n",
    "        if (splited_value[1] == 'years' or splited_value[1] == 'year'):\n",
    "            age_in_days = int(splited_value[0])*365\n",
    "        elif(splited_value[1] == 'months' or splited_value[1] == 'month'):\n",
    "            age_in_days = int(splited_value[0])*30\n",
    "        elif(splited_value[1] == 'weeks' or splited_value[1] == 'week'):\n",
    "            age_in_days = int(splited_value[0])*7\n",
    "                \n",
    "        if (age_in_days > 0 and age_in_days <= 365):\n",
    "            return 'young'\n",
    "        elif (age_in_days > 365 and age_in_days <= 365*3):\n",
    "            return 'young_adult'\n",
    "        elif (age_in_days > 365*3 and age_in_days <= 365*7):\n",
    "            return 'adult'\n",
    "        elif (age_in_days > 365*7 and age_in_days <= 365*10):\n",
    "            return 'old_adult'\n",
    "        elif (age_in_days > 365*10):\n",
    "            return 'old'\n",
    "    else:\n",
    "        return 'None'"
   ]
  },
  {
   "cell_type": "markdown",
   "metadata": {
    "collapsed": true
   },
   "source": [
    "### <i>OutcomeType</i>"
   ]
  },
  {
   "cell_type": "markdown",
   "metadata": {},
   "source": [
    "Este es el target feature. Por lo tanto, es necesario verificar que no hay missing values y, en caso de haberlos, se deben eliminar dichas filas ya que no aportan ningún tipo de información. Sin embargo, como se puede apreciar del Data Quality Report detallado anteriormente, no hay missing values. <br>\n",
    "Analizo que no haya ningún nivel dentro de la feature con nombre <i>unknown</i> o algo similar."
   ]
  },
  {
   "cell_type": "code",
   "execution_count": 11,
   "metadata": {},
   "outputs": [
    {
     "data": {
      "text/plain": [
       "<matplotlib.axes._subplots.AxesSubplot at 0x7fcc1411f2d0>"
      ]
     },
     "execution_count": 11,
     "metadata": {},
     "output_type": "execute_result"
    },
    {
     "name": "stderr",
     "output_type": "stream",
     "text": [
      "/opt/conda/envs/python2/lib/python2.7/site-packages/matplotlib/font_manager.py:1297: UserWarning: findfont: Font family [u'sans-serif'] not found. Falling back to DejaVu Sans\n",
      "  (prop.get_family(), self.defaultFamily[fontext]))\n"
     ]
    },
    {
     "data": {
      "image/png": "[encoded data removed]",
      "text/plain": [
       "<matplotlib.figure.Figure at 0x7fcc1411fe10>"
      ]
     },
     "metadata": {},
     "output_type": "display_data"
    }
   ],
   "source": [
    "pd.DataFrame(shelter_pd.OutcomeType.value_counts()).plot(kind='bar')"
   ]
  },
  {
   "cell_type": "markdown",
   "metadata": {},
   "source": [
    "Efectivamente, todas las filas parecen contener información de utilidad, por lo que no se necesita realizar limpieza alguna."
   ]
  },
  {
   "cell_type": "markdown",
   "metadata": {},
   "source": [
    "### <i>Animal type</i>"
   ]
  },
  {
   "cell_type": "markdown",
   "metadata": {},
   "source": [
    "Se grafican las frecuencias para cada uno de los niveles del feature para detectar alguna anomalía en la información pero, como se puede ver, no la hay."
   ]
  },
  {
   "cell_type": "code",
   "execution_count": 12,
   "metadata": {},
   "outputs": [
    {
     "data": {
      "text/plain": [
       "<matplotlib.axes._subplots.AxesSubplot at 0x7fcc1419cf90>"
      ]
     },
     "execution_count": 12,
     "metadata": {},
     "output_type": "execute_result"
    },
    {
     "data": {
      "image/png": "[encoded data removed]",
      "text/plain": [
       "<matplotlib.figure.Figure at 0x7fcc14119dd0>"
      ]
     },
     "metadata": {},
     "output_type": "display_data"
    }
   ],
   "source": [
    "pd.DataFrame(shelter_pd.AnimalType.value_counts()).plot(kind='bar')"
   ]
  },
  {
   "cell_type": "markdown",
   "metadata": {},
   "source": [
    "### <i>SexuponOutcome</i>"
   ]
  },
  {
   "cell_type": "markdown",
   "metadata": {},
   "source": [
    "Como podemos ver en el Data Quality Report, hay un missing value. Sin embargo, se considera apropiado investigar qué niveles toma esta feature a partir de un gráfico de histograma."
   ]
  },
  {
   "cell_type": "code",
   "execution_count": 13,
   "metadata": {
    "scrolled": false
   },
   "outputs": [
    {
     "data": {
      "text/plain": [
       "<matplotlib.axes._subplots.AxesSubplot at 0x7fcc14022c10>"
      ]
     },
     "execution_count": 13,
     "metadata": {},
     "output_type": "execute_result"
    },
    {
     "data": {
      "image/png": "[encoded data removed]",
      "text/plain": [
       "<matplotlib.figure.Figure at 0x7fcc14029e90>"
      ]
     },
     "metadata": {},
     "output_type": "display_data"
    }
   ],
   "source": [
    "pd.DataFrame(shelter_pd.SexuponOutcome.value_counts()).plot(kind='bar')"
   ]
  },
  {
   "cell_type": "markdown",
   "metadata": {},
   "source": [
    "Tanto el missing value, como los calificados como <i>unknown</i>, se les imputará un valor (ya que totalizan menos del 30% de los datos). Para ello necesito determinadas funciones genéricas como obtener la moda, contar la cantidad de veces que un valor aparece en una columna y demás."
   ]
  },
  {
   "cell_type": "code",
   "execution_count": 14,
   "metadata": {
    "collapsed": true
   },
   "outputs": [],
   "source": [
    "import operator\n",
    "\n",
    "def valueCountPandas(DF, column, value): \n",
    "    '''\n",
    "        Function that counts the number of occurrences of a value in a given column\n",
    "        First parameter is a pandas DataFrame\n",
    "        Second parameter is the name of a column (String)\n",
    "        Third parameter is the value that needs to be counted (String)\n",
    "    '''\n",
    "    count = 0\n",
    "    columnIndex = DF.columns.get_loc(column)\n",
    "    for (index, row) in DF.iterrows():\n",
    "        if row[columnIndex] == value:\n",
    "            count += 1\n",
    "    return count\n",
    "\n",
    "def valueCount(DF, column, value):\n",
    "    '''\n",
    "        Function that counts the number of occurrences of a value in a given column\n",
    "        First parameter is a Spark DataFrame\n",
    "        Second parameter is the name of a column (String)\n",
    "        Third parameter is the value that needs to be counted (String)\n",
    "    '''\n",
    "    return DF.rdd.filter(lambda x: x[column] == value).count()\n",
    "\n",
    "def missingValuesRemover(DF, column):\n",
    "    '''\n",
    "        Removes the rows with missing values in the given column\n",
    "        First parameter is a pandas DataFrame\n",
    "        Second parameter is the name of the column to be analyzed\n",
    "    '''\n",
    "    count = 0\n",
    "    columnIndex = DF.columns.get_loc(column)\n",
    "    for (index, row) in DF.iterrows():\n",
    "        if str(row[columnIndex]).lower().split() == ['nan']:\n",
    "            DF = DF.drop(index)\n",
    "            count += 1\n",
    "    print(str(count) + \" row(s) removed\")\n",
    "    return DF\n",
    "\n",
    "def selectDistinctPandas(DF, column):\n",
    "    '''\n",
    "        Selects all distinct value from column\n",
    "        First parameter is a pandas DataFrame\n",
    "        Second parameter is the name of the column to select the values from\n",
    "    '''\n",
    "    distinctList = []\n",
    "    columnIndex = DF.columns.get_loc(column)\n",
    "    for (index, row) in DF.iterrows():\n",
    "        if row[columnIndex] not in distinctList:\n",
    "            distinctList.append(row[columnIndex])\n",
    "    return distinctList\n",
    "\n",
    "def selectDistinct(DF, column):\n",
    "    '''\n",
    "        Selects all distinct value from column\n",
    "        First parameter is a Spark DataFrame\n",
    "        Second parameter is the name of the column to select the values from\n",
    "    '''\n",
    "    return DF.rdd.map(lambda x: x[column]).distinct().collect()\n",
    "\n",
    "def getMode(DF, column):\n",
    "    '''\n",
    "        Gets mode of a given column in the dataset\n",
    "        First parameter is a pandas DataFrame\n",
    "        Second parameter is the name of the column to get the mode from\n",
    "    '''\n",
    "    countDict = {}\n",
    "    selectDistinctList = selectDistinct(DF, column)\n",
    "    for i in selectDistinctList:\n",
    "        countDict[i] = valueCount(DF, column, i)\n",
    "    return sorted(countDict.items(), key=operator.itemgetter(1))[-1][0]"
   ]
  },
  {
   "cell_type": "code",
   "execution_count": 15,
   "metadata": {
    "collapsed": true
   },
   "outputs": [],
   "source": [
    "class FillMissingValues(Transformer, HasInputCol, HasOutputCol): \n",
    "    # Creates a column day\n",
    "    @keyword_only\n",
    "    def __init__(self, inputCol=None, outputCol=None):\n",
    "        super(FillMissingValues, self).__init__()\n",
    "        kwargs = self.__init__._input_kwargs\n",
    "        self.setParams(**kwargs)\n",
    "        \n",
    "    @keyword_only \n",
    "    def setParams(self, inputCol=None, outputCol=None):\n",
    "        kwargs = self.setParams._input_kwargs\n",
    "        return self._set(**kwargs)\n",
    "        \n",
    "    def _transform(self, dataset):\n",
    "        in_col = dataset[self.getInputCol()]\n",
    "        out_col = self.getOutputCol()\n",
    "        modeAttribute = getMode(shelter_df, self.getInputCol())\n",
    "        udf = UserDefinedFunction(lambda x: fillMissingValues(x, modeAttribute), StringType())\n",
    "        return dataset.withColumn(out_col, udf(in_col))\n",
    "    \n",
    "def fillMissingValues(input_value, mode):\n",
    "    if (input_value.lower() == 'nan' or input_value.lower() == 'unknown'):\n",
    "        return mode\n",
    "    else:\n",
    "        return input_value"
   ]
  },
  {
   "cell_type": "markdown",
   "metadata": {},
   "source": [
    "### <i>AgeuponOutcome</i>"
   ]
  },
  {
   "cell_type": "code",
   "execution_count": 16,
   "metadata": {
    "scrolled": true
   },
   "outputs": [
    {
     "data": {
      "text/plain": [
       "<matplotlib.axes._subplots.AxesSubplot at 0x7fcc0a5917d0>"
      ]
     },
     "execution_count": 16,
     "metadata": {},
     "output_type": "execute_result"
    },
    {
     "data": {
      "image/png": "[encoded data removed]",
      "text/plain": [
       "<matplotlib.figure.Figure at 0x7fcc14047210>"
      ]
     },
     "metadata": {},
     "output_type": "display_data"
    }
   ],
   "source": [
    "pd.DataFrame(shelter_pd['AgeuponOutcome'].value_counts()).plot(kind='bar')"
   ]
  },
  {
   "cell_type": "markdown",
   "metadata": {},
   "source": [
    "### <i>Breed</i>"
   ]
  },
  {
   "cell_type": "code",
   "execution_count": null,
   "metadata": {},
   "outputs": [],
   "source": []
  },
  {
   "cell_type": "markdown",
   "metadata": {},
   "source": [
    "### <i>Color</i>"
   ]
  },
  {
   "cell_type": "code",
   "execution_count": null,
   "metadata": {
    "collapsed": true
   },
   "outputs": [],
   "source": []
  },
  {
   "cell_type": "markdown",
   "metadata": {},
   "source": [
    "Se hace la limpieza de datos con la ayuda de <i>Pipelines</i>, y se obtiene un DataFrame de Spark. "
   ]
  },
  {
   "cell_type": "code",
   "execution_count": 22,
   "metadata": {},
   "outputs": [],
   "source": [
    "shelter_pd = pd.read_csv('train.csv')"
   ]
  },
  {
   "cell_type": "code",
   "execution_count": 23,
   "metadata": {},
   "outputs": [],
   "source": [
    "Name_transformer = NameTransformer(inputCol='Name', outputCol='Name')\n",
    "DateTime_YearExtractor = YearExtractor(inputCol='DateTime', outputCol='Year')\n",
    "DateTime_MonthExtractor = MonthExtractor(inputCol='DateTime', outputCol='Month')\n",
    "DateTime_DayExtractor = DayExtractor(inputCol='DateTime', outputCol='Day')\n",
    "SexuponOutcome_transformer = FillMissingValues(inputCol='SexuponOutcome', outputCol='SexuponOutcome')\n",
    "AgeuponOutcome_transformer = FillMissingValues(inputCol='AgeuponOutcome', outputCol='AgeuponOutcome')\n"
   ]
  },
  {
   "cell_type": "code",
   "execution_count": 27,
   "metadata": {},
   "outputs": [
    {
     "data": {
      "text/plain": [
       "DataFrame[Name: boolean, DateTime: string, OutcomeType: string, AnimalType: string, SexuponOutcome: string, AgeuponOutcome: string, Breed: string, Color: string, Day: string, Month: string, Year: string]"
      ]
     },
     "execution_count": 27,
     "metadata": {},
     "output_type": "execute_result"
    }
   ],
   "source": [
    "# shelter_pd = pd.read_csv('train.csv')\n",
    "shelter_pd = shelter_pd[['Name', 'DateTime', 'OutcomeType', 'AnimalType', 'SexuponOutcome', 'AgeuponOutcome', 'Breed', 'Color']].astype(str)\n",
    "shelter_df = sqlContext.createDataFrame(shelter_pd)\n",
    "pipeline = Pipeline(stages=[Name_transformer, DateTime_DayExtractor, DateTime_MonthExtractor, DateTime_YearExtractor, SexuponOutcome_transformer])\n",
    "model = pipeline.fit(shelter_df)\n",
    "shelter_cleaned_df = model.transform(shelter_df)\n",
    "shelter_cleaned_df"
   ]
  },
  {
   "cell_type": "code",
   "execution_count": null,
   "metadata": {},
   "outputs": [],
   "source": []
  },
  {
   "cell_type": "code",
   "execution_count": 26,
   "metadata": {},
   "outputs": [],
   "source": [
    "(training, testing) = shelter_cleaned_df.randomSplit([0.8, 0.2])\n",
    "\n",
    "#training = shelter_pd.sample(frac=0.8, replace=False)\n",
    "#testing = shelter_pd.drop(training.index)\n",
    "#print(training)"
   ]
  },
  {
   "cell_type": "markdown",
   "metadata": {},
   "source": [
    "# KNN"
   ]
  },
  {
   "cell_type": "code",
   "execution_count": null,
   "metadata": {
    "collapsed": true
   },
   "outputs": [],
   "source": [
    "import operator\n",
    "\n",
    "def jaccardSimilarity(row1, row2):\n",
    "    similarity = 0\n",
    "    for i in range (len(row1)):\n",
    "        #print(row1[i])\n",
    "        #print(row2[i])\n",
    "        if row1[i] == row2[i]:\n",
    "            similarity += 1\n",
    "    return float(similarity)/len(row1)\n",
    "\n",
    "def getNeighbours(k, query, dataset):     ## Returns a list of the k nearest neighbour(s) of the query\n",
    "    datasetWithoutTarget = dataset.drop(\"OutcomeType\", 1)\n",
    "    datasetWithoutTarget = datasetWithoutTarget.reset_index(drop=True)\n",
    "    dictDistance = {}\n",
    "    for i in range(len(datasetWithoutTarget)):\n",
    "        dictDistance[i] = jaccardSimilarity(query, datasetWithoutTarget.ix[i])\n",
    "    sorted_dictDistance = sorted(dictDistance.items(), key=operator.itemgetter(1))\n",
    "    k_sorted_dictDistance = []\n",
    "    for i in sorted_dictDistance[-k:]:\n",
    "        k_sorted_dictDistance.append(i[0])\n",
    "    return k_sorted_dictDistance\n",
    "\n",
    "\n",
    "def KNN(neighbours, dataset):\n",
    "    dictOutcome = {}\n",
    "    for i in neighbours:\n",
    "        if dataset.ix[i][0] in dictOutcome:\n",
    "            dictOutcome[dataset.ix[i][0]] += 1\n",
    "        else:\n",
    "            dictOutcome[dataset.ix[i][0]] = 1\n",
    "    sortedOutcomes = sorted(dictOutcome.iteritems(), key=operator.itemgetter(1), reverse=True)\n",
    "    return sortedOutcomes[0][0]\n",
    "\n",
    "## PS: Here, everything takes as an argument the dataset WITH the target feature\n",
    "## The dataset must have the target feature (OutcomeType) as first column\n",
    "## To make a KNN prediction for a query given a dataset --> KNN(getNeighbours(k, query, dataset), dataset)"
   ]
  },
  {
   "cell_type": "code",
   "execution_count": null,
   "metadata": {},
   "outputs": [],
   "source": [
    "iasf = testing.toPandas()\n",
    "for i in range(0, len(iasf)):\n",
    "    print(KNN(getNeighbours(10, iasf.ix[i], shelter_cleaned_df), shelter_cleaned_df))"
   ]
  },
  {
   "cell_type": "code",
   "execution_count": null,
   "metadata": {},
   "outputs": [],
   "source": []
  },
  {
   "cell_type": "code",
   "execution_count": null,
   "metadata": {
    "collapsed": true
   },
   "outputs": [],
   "source": []
  },
  {
   "cell_type": "code",
   "execution_count": null,
   "metadata": {
    "collapsed": true
   },
   "outputs": [],
   "source": []
  },
  {
   "cell_type": "code",
   "execution_count": null,
   "metadata": {
    "collapsed": true
   },
   "outputs": [],
   "source": []
  },
  {
   "cell_type": "code",
   "execution_count": null,
   "metadata": {
    "collapsed": true
   },
   "outputs": [],
   "source": []
  },
  {
   "cell_type": "code",
   "execution_count": null,
   "metadata": {},
   "outputs": [],
   "source": [
    "cats = shelter_pd.loc[shelter_pd['AnimalType'] == 'Cat']\n",
    "pd.DataFrame(cats['SexuponOutcome'].value_counts()).plot(kind='bar')"
   ]
  },
  {
   "cell_type": "code",
   "execution_count": null,
   "metadata": {},
   "outputs": [],
   "source": [
    "dogs= shelter_pd.loc[shelter_pd['AnimalType'] == 'Dog']\n",
    "pd.DataFrame(dogs['SexuponOutcome'].value_counts()).plot(kind='bar')"
   ]
  },
  {
   "cell_type": "code",
   "execution_count": null,
   "metadata": {
    "collapsed": true
   },
   "outputs": [],
   "source": []
  },
  {
   "cell_type": "code",
   "execution_count": null,
   "metadata": {
    "collapsed": true
   },
   "outputs": [],
   "source": []
  },
  {
   "cell_type": "code",
   "execution_count": null,
   "metadata": {
    "collapsed": true
   },
   "outputs": [],
   "source": []
  },
  {
   "cell_type": "code",
   "execution_count": null,
   "metadata": {},
   "outputs": [],
   "source": [
    "not_missing_values_pd = shelter_pd.loc[(shelter_pd['SexuponOutcome'] != 'Unknown') & (shelter_pd['SexuponOutcome'] != 'NaN')]\n",
    "# me aseguro de haber tomado todos los datos correctos\n",
    "not_missing_values_pd.describe()"
   ]
  },
  {
   "cell_type": "markdown",
   "metadata": {},
   "source": [
    "##### Como se puede ver no hay missing values para SexuponOutcome. Acontinuacion lo demostrara un grafico."
   ]
  },
  {
   "cell_type": "code",
   "execution_count": null,
   "metadata": {
    "collapsed": true
   },
   "outputs": [],
   "source": [
    "pd.DataFrame(not_missing_values_pd['SexuponOutcome'].value_counts()).plot(kind='bar')"
   ]
  },
  {
   "cell_type": "markdown",
   "metadata": {},
   "source": [
    "##### Acontinuacion, se dividra este dataframe en dos 70% para entrenamiento y 30% para testing"
   ]
  },
  {
   "cell_type": "code",
   "execution_count": null,
   "metadata": {
    "collapsed": true
   },
   "outputs": [],
   "source": [
    "training = not_missing_values_pd.sample(frac=0.7, replace=False)\n",
    "testing = not_missing_values_pd.drop(training.index)"
   ]
  },
  {
   "cell_type": "code",
   "execution_count": null,
   "metadata": {
    "collapsed": true
   },
   "outputs": [],
   "source": []
  },
  {
   "cell_type": "code",
   "execution_count": null,
   "metadata": {
    "collapsed": true
   },
   "outputs": [],
   "source": []
  },
  {
   "cell_type": "code",
   "execution_count": null,
   "metadata": {
    "collapsed": true
   },
   "outputs": [],
   "source": []
  },
  {
   "cell_type": "code",
   "execution_count": null,
   "metadata": {
    "collapsed": true
   },
   "outputs": [],
   "source": []
  },
  {
   "cell_type": "code",
   "execution_count": null,
   "metadata": {},
   "outputs": [],
   "source": [
    "print(getMode(shelter_df, \"SexuponOutcome\"))"
   ]
  },
  {
   "cell_type": "code",
   "execution_count": null,
   "metadata": {
    "collapsed": true
   },
   "outputs": [],
   "source": []
  },
  {
   "cell_type": "code",
   "execution_count": null,
   "metadata": {
    "collapsed": true
   },
   "outputs": [],
   "source": []
  },
  {
   "cell_type": "code",
   "execution_count": null,
   "metadata": {
    "collapsed": true
   },
   "outputs": [],
   "source": [
    "shelter_pd = missingValuesRemover(shelter_pd, \"AgeuponOutcome\")\n",
    "shelter_pd = missingValuesRemover(shelter_pd, \"SexuponOutcome\")\n",
    "del shelter_pd['AnimalID']\n",
    "del shelter_pd['OutcomeSubtype']\n",
    "del shelter_pd['Name']"
   ]
  },
  {
   "cell_type": "markdown",
   "metadata": {},
   "source": [
    "### Part II: Indexation"
   ]
  },
  {
   "cell_type": "code",
   "execution_count": null,
   "metadata": {
    "collapsed": true
   },
   "outputs": [],
   "source": [
    "shelter_pd[['DateTime', 'OutcomeType', 'AnimalType', 'SexuponOutcome', 'AgeuponOutcome', 'Breed', 'Color']] = shelter_pd[['DateTime', 'OutcomeType', 'AnimalType', 'SexuponOutcome', 'AgeuponOutcome', 'Breed', 'Color']].astype(str)\n",
    "shelter_df = sqlContext.createDataFrame(shelter_pd)\n",
    "\n",
    "## Creating a Spark Dataframe from the Pandas Dataframe in order to use it with the Decision Tree model."
   ]
  },
  {
   "cell_type": "code",
   "execution_count": null,
   "metadata": {
    "collapsed": true
   },
   "outputs": [],
   "source": [
    "from pyspark.sql.functions import UserDefinedFunction\n",
    "from pyspark.sql.types import IntegerType, LongType, StringType\n",
    "\n",
    "\n",
    "class AgeuponOutcomeTransformer(Transformer, HasInputCol, HasOutputCol): \n",
    "    # Does binning using the module of the division\n",
    "    @keyword_only\n",
    "    def __init__(self, inputCol=None, outputCol=None):\n",
    "        super(AgeuponOutcomeTransformer, self).__init__()\n",
    "        kwargs = self.__init__._input_kwargs\n",
    "        self.setParams(**kwargs)\n",
    "        \n",
    "    @keyword_only \n",
    "    def setParams(self, inputCol=None, outputCol=None):\n",
    "        kwargs = self.setParams._input_kwargs\n",
    "        return self._set(**kwargs)\n",
    "        \n",
    "    def _transform(self, dataset):\n",
    "        in_col = dataset[self.getInputCol()]\n",
    "        out_col = self.getOutputCol()\n",
    "        udf = UserDefinedFunction(lambda x: category_func(x), StringType())\n",
    "        return dataset.withColumn(out_col, udf(in_col))\n",
    "\n",
    "def category_func(in_value):\n",
    "    if (in_value):\n",
    "        age_in_days = 0\n",
    "        splited_value = in_value.split(' ')        \n",
    "        if (splited_value[1] == 'years' or splited_value[1] == 'year'):\n",
    "            age_in_days = int(splited_value[0])*365\n",
    "        elif(splited_value[1] == 'months' or splited_value[1] == 'month'):\n",
    "            age_in_days = int(splited_value[0])*30\n",
    "        elif(splited_value[1] == 'weeks' or splited_value[1] == 'week'):\n",
    "            age_in_days = int(splited_value[0])*7\n",
    "                \n",
    "        if (age_in_days > 0 and age_in_days <= 365):\n",
    "            return 'young'\n",
    "        elif (age_in_days > 365 and age_in_days <= 365*3):\n",
    "            return 'young_adult'\n",
    "        elif (age_in_days > 365*3 and age_in_days <= 365*7):\n",
    "            return 'adult'\n",
    "        elif (age_in_days > 365*7 and age_in_days <= 365*10):\n",
    "            return 'old_adult'\n",
    "        elif (age_in_days > 365*10):\n",
    "            return 'old'\n",
    "    else:\n",
    "        return 'None'"
   ]
  },
  {
   "cell_type": "code",
   "execution_count": null,
   "metadata": {
    "collapsed": true
   },
   "outputs": [],
   "source": [
    "class BinningTransformer(Transformer, HasInputCol, HasOutputCol): \n",
    "    # Does binning using the module of the division\n",
    "    @keyword_only\n",
    "    def __init__(self, inputCol=None, outputCol=None):\n",
    "        super(BinningTransformer, self).__init__()\n",
    "        kwargs = self.__init__._input_kwargs\n",
    "        self.setParams(**kwargs)\n",
    "        \n",
    "    @keyword_only \n",
    "    def setParams(self, inputCol=None, outputCol=None):\n",
    "        kwargs = self.setParams._input_kwargs\n",
    "        return self._set(**kwargs)\n",
    "        \n",
    "    def _transform(self, dataset):\n",
    "        in_col = dataset[self.getInputCol()]\n",
    "        out_col = self.getOutputCol()\n",
    "        udf = UserDefinedFunction(lambda x: bin_func(x), DoubleType())\n",
    "        return dataset.withColumn(out_col, udf(in_col))\n",
    "\n",
    "def bin_func(in_value):\n",
    "    if (in_value):\n",
    "        age_in_days = 0\n",
    "        splited_value = in_value.split(' ')        \n",
    "        if (splited_value[1] == 'years' or splited_value[1] == 'year'):\n",
    "            age_in_days = int(splited_value[0])*365\n",
    "        elif(splited_value[1] == 'months' or splited_value[1] == 'month'):\n",
    "            age_in_days = int(splited_value[0])*30\n",
    "        elif(splited_value[1] == 'weeks' or splited_value[1] == 'week'):\n",
    "            age_in_days = int(splited_value[0])*7\n",
    "                \n",
    "        if (age_in_days > 0 and age_in_days <= 365):\n",
    "            return 1.0\n",
    "        elif (age_in_days > 365 and age_in_days <= 365*3):\n",
    "            return 2.0\n",
    "        elif (age_in_days > 365*3 and age_in_days <= 365*7):\n",
    "            return 3.0\n",
    "        elif (age_in_days > 365*7 and age_in_days <= 365*10):\n",
    "            return 4.0\n",
    "        elif (age_in_days > 365*10):\n",
    "            return 5.0\n",
    "    else:\n",
    "        return 0.0"
   ]
  },
  {
   "cell_type": "code",
   "execution_count": null,
   "metadata": {
    "scrolled": true
   },
   "outputs": [],
   "source": [
    "## Here are all the indexers we're gonna use in the pipeline:\n",
    "#OutcomeType_indexer = StringIndexer(inputCol=\"OutcomeType\", outputCol=\"OutcomeType_idx\")\n",
    "#AnimalType_indexer = StringIndexer(inputCol=\"AnimalType\", outputCol=\"AnimalType_idx\")\n",
    "#SexuponOutcome_indexer = StringIndexer(inputCol=\"SexuponOutcome\", outputCol=\"SexuponOutcome_idx\")\n",
    "#Breed_indexer = StringIndexer(inputCol=\"Breed\", outputCol=\"Breed_idx\")\n",
    "#Color_indexer = StringIndexer(inputCol=\"Color\", outputCol=\"Color_idx\")\n",
    "#Age_indexer = StringIndexer(inputCol='AgeuponOutcome', outputCol='AgeuponOutcome_idx')\n",
    "#Bin_transformer = BinningTransformer(inputCol='AgeuponOutcome', outputCol='AgeuponOutcome_binned')\n",
    "#AgeuponOutcome_transformer = AgeuponOutcomeTransformer(inputCol='AgeuponOutcome', outputCol='AgeuponOutcome_category')\n",
    "\n",
    "Name_transformer = NameTransformer(inputCol='Name', outputCol='Name')\n",
    "DateTime_YearExtractor = YearExtractor(inputCol='DateTime', outputCol='Year')\n",
    "DateTime_MonthExtractor = MonthExtractor(inputCol='DateTime', outputCol='Month')\n",
    "DateTime_DayExtractor = DayExtractor(inputCol='DateTime', outputCol='Day')\n",
    "SexuponOutcome_transformer = FillMissingValues(inputCol='SexuponOutcome', outputCol='SexuponOutcome')\n",
    "\n",
    "## Should we use OneHotEncoder or StringIndexer for continuous features?\n",
    "## It looks like we're using StringIndexer more for stuff like boolean values and\n",
    "## OneHotEncoder for actual categorical features.. But not sure\n",
    "## Anyway if it's actally OneHotEncoder that we need to use, we just need to add\n",
    "## One OneHotIndexer and use the OutcomeType_idx we just created as inputCol.."
   ]
  },
  {
   "cell_type": "code",
   "execution_count": null,
   "metadata": {},
   "outputs": [],
   "source": [
    "#pipeline = Pipeline(stages=[OutcomeType_indexer, AnimalType_indexer, SexuponOutcome_indexer, Breed_indexer, Color_indexer, AgeuponOutcome_transformer, Bin_transformer, DateTime_YearExtractor, DateTime_MonthExtractor, DateTime_DayExtractor])\n",
    "shelter_pd = shelter_pd[['Name', 'DateTime', 'OutcomeType', 'AnimalType', 'SexuponOutcome', 'AgeuponOutcome', 'Breed', 'Color']].astype(str)\n",
    "shelter_df = sqlContext.createDataFrame(shelter_pd)\n",
    "pipeline = Pipeline(stages=[Name_transformer, DateTime_DayExtractor, DateTime_MonthExtractor, DateTime_YearExtractor, SexuponOutcome_transformer])\n",
    "model = pipeline.fit(shelter_df)\n",
    "shelter_cleaned_df = model.transform(shelter_df)"
   ]
  },
  {
   "cell_type": "code",
   "execution_count": null,
   "metadata": {},
   "outputs": [],
   "source": [
    "#shelter_df_idx = model.transform(shelter_df)\n",
    "#shelter_df_idx.show()"
   ]
  },
  {
   "cell_type": "code",
   "execution_count": null,
   "metadata": {},
   "outputs": [],
   "source": [
    "shelter_df_only_idx = shelter_df_idx\n",
    "shelter_df_only_idx = shelter_df_only_idx.drop('OutcomeType', 'AnimalType', 'SexuponOutcome', 'Breed', 'Color')\n",
    "\n",
    "## Dropping the tables that are still categorical because they're no use to us."
   ]
  },
  {
   "cell_type": "code",
   "execution_count": null,
   "metadata": {},
   "outputs": [],
   "source": [
    "shelter_df_only_idx.registerTempTable(\"shelter\")\n",
    "sqlContext.sql(\"SELECT OutcomeType_idx, AnimalType_idx, SexuponOutcome_idx, Breed_idx, Color_idx, AgeuponOutcome_binned FROM shelter\").show()\n",
    "\n",
    "## Showing all the indexed tables"
   ]
  },
  {
   "cell_type": "markdown",
   "metadata": {},
   "source": [
    "#################################\n",
    "#################################\n",
    "\n",
    "\n",
    "OKAY GUYS, \n",
    "\n",
    "Tenemos que cambiar la columna fecha y edad para poder usarlo con decision tree\n",
    "\n",
    "\n",
    "#################################\n",
    "#################################"
   ]
  },
  {
   "cell_type": "markdown",
   "metadata": {
    "collapsed": true
   },
   "source": [
    "### Para realizar naive base convertimos el cleaned dataframe de spark a pandas"
   ]
  },
  {
   "cell_type": "code",
   "execution_count": null,
   "metadata": {
    "collapsed": true
   },
   "outputs": [],
   "source": [
    "shelter_df_only_category = shelter_df_idx\n",
    "shelter_df_only_category = shelter_df_only_category.drop('DateTime', 'OutcomeType_idx', 'AnimalType_idx', 'SexuponOutcome_idx', 'Breed_idx', 'Color_idx','AgeuponOutcome_binned', 'Ageuponoutcome')\n",
    "shelter_cleaned_df = shelter_df_only_category.toPandas()\n",
    "shelter_cleaned_df"
   ]
  },
  {
   "cell_type": "code",
   "execution_count": null,
   "metadata": {
    "collapsed": true
   },
   "outputs": [],
   "source": [
    "shelter_cleaned_df.loc[shelter_cleaned_df['AnimalType'] == 'Cat']"
   ]
  },
  {
   "cell_type": "code",
   "execution_count": null,
   "metadata": {
    "collapsed": true
   },
   "outputs": [],
   "source": [
    "cats = shelter_cleaned_df.loc[shelter_cleaned_df['AnimalType'] == 'Cat']\n",
    "cats.describe()\n",
    "#cats.loc[cats['SexuponOutcome'] == 'Neutered Male'].describe()"
   ]
  },
  {
   "cell_type": "code",
   "execution_count": null,
   "metadata": {
    "collapsed": true
   },
   "outputs": [],
   "source": [
    "pd.DataFrame(cats['SexuponOutcome'].value_counts()).plot(kind='bar')"
   ]
  },
  {
   "cell_type": "code",
   "execution_count": null,
   "metadata": {
    "collapsed": true
   },
   "outputs": [],
   "source": [
    "dog = shelter_cleaned_df.loc[shelter_cleaned_df['AnimalType'] == 'Dog']\n",
    "dog.describe()"
   ]
  },
  {
   "cell_type": "code",
   "execution_count": null,
   "metadata": {
    "collapsed": true
   },
   "outputs": [],
   "source": [
    "pd.DataFrame(dog['SexuponOutcome'].value_counts()).plot(kind='bar')"
   ]
  },
  {
   "cell_type": "code",
   "execution_count": null,
   "metadata": {},
   "outputs": [],
   "source": [
    "shelter_df[\"Name\"]"
   ]
  },
  {
   "cell_type": "code",
   "execution_count": null,
   "metadata": {
    "collapsed": true
   },
   "outputs": [],
   "source": []
  }
 ],
 "metadata": {
  "kernelspec": {
   "display_name": "Python 2",
   "language": "python",
   "name": "python2"
  },
  "language_info": {
   "codemirror_mode": {
    "name": "ipython",
    "version": 2
   },
   "file_extension": ".py",
   "mimetype": "text/x-python",
   "name": "python",
   "nbconvert_exporter": "python",
   "pygments_lexer": "ipython2",
   "version": "2.7.13"
  }
 },
 "nbformat": 4,
 "nbformat_minor": 2
}
